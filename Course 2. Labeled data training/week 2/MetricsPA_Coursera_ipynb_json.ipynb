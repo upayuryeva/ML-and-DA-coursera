{
  "nbformat": 4,
  "nbformat_minor": 0,
  "metadata": {
    "kernelspec": {
      "display_name": "Python 3",
      "language": "python",
      "name": "python3"
    },
    "language_info": {
      "codemirror_mode": {
        "name": "ipython",
        "version": 3
      },
      "file_extension": ".py",
      "mimetype": "text/x-python",
      "name": "python",
      "nbconvert_exporter": "python",
      "pygments_lexer": "ipython3",
      "version": "3.6.8"
    },
    "colab": {
      "name": "MetricsPA_Coursera.ipynb.json",
      "provenance": [],
      "collapsed_sections": [
        "cE159V_r4zWX"
      ]
    }
  },
  "cells": [
    {
      "cell_type": "markdown",
      "metadata": {
        "id": "panYYi694zWH"
      },
      "source": [
        "**Корректность проверена на Python 3.6:**\n",
        "+ numpy 1.15.4\n",
        "+ matplotlib 3.0.2\n",
        "+ seaborn 0.9.0\n",
        "+ sklearn 0.20.2"
      ]
    },
    {
      "cell_type": "markdown",
      "metadata": {
        "id": "aXMwZP7D4zWJ"
      },
      "source": [
        "# Сравнение метрик качества бинарной классификации\n",
        "## Programming Assignment"
      ]
    },
    {
      "cell_type": "markdown",
      "metadata": {
        "id": "TF76tOUR4zWK"
      },
      "source": [
        "В этом задании мы разберемся, в чем состоит разница между разными метриками качества. Мы остановимся на задаче бинарной классификации (с откликами 0 и 1), но рассмотрим ее как задачу предсказания вероятности того, что объект принадлежит классу 1. Таким образом, мы будем работать с вещественной, а не бинарной целевой переменной."
      ]
    },
    {
      "cell_type": "markdown",
      "metadata": {
        "id": "Yt5t4kfg4zWK"
      },
      "source": [
        "Задание оформлено в стиле демонстрации с элементами Programming Assignment. Вам нужно запустить уже написанный код и рассмотреть предложенные графики, а также реализовать несколько своих функций. Для проверки запишите в отдельные файлы результаты работы этих функций на указанных наборах входных данных, это можно сделать с помощью предложенных в заданиях функций write_answer_N, N - номер задачи. Загрузите эти файлы в систему."
      ]
    },
    {
      "cell_type": "markdown",
      "metadata": {
        "id": "cYDyoDMx4zWK"
      },
      "source": [
        "Для построения графиков нужно импортировать соответствующие модули. \n",
        "Библиотека seaborn позволяет сделать графики красивее. Если вы не хотите ее использовать, закомментируйте третью строку.\n",
        "Более того, для выполнения Programming Assignment модули matplotlib и seaborn не нужны (вы можете не запускать ячейки с построением графиков и смотреть на уже построенные картинки)."
      ]
    },
    {
      "cell_type": "code",
      "metadata": {
        "id": "RqJf4sPa4zWL"
      },
      "source": [
        "import numpy as np\n",
        "from matplotlib import pyplot as plt\n",
        "import seaborn\n",
        "%matplotlib inline"
      ],
      "execution_count": 2,
      "outputs": []
    },
    {
      "cell_type": "markdown",
      "metadata": {
        "id": "TF0po_GI4zWL"
      },
      "source": [
        "### Что предсказывают алгоритмы"
      ]
    },
    {
      "cell_type": "markdown",
      "metadata": {
        "id": "BOq7W7HE4zWL"
      },
      "source": [
        "Для вычисления метрик качества в обучении с учителем нужно знать только два вектора: вектор правильных ответов и вектор предсказанных величин; будем обозначать их actual и predicted. Вектор actual известен из обучающей выборки, вектор predicted возвращается алгоритмом предсказания. Сегодня мы не будем использовать какие-то алгоритмы классификации, а просто рассмотрим разные векторы предсказаний.\n",
        "\n",
        "В нашей формулировке actual состоит из нулей и единиц, а predicted - из величин из интервала [0, 1] (вероятности класса 1). Такие векторы удобно показывать на scatter plot.\n",
        "\n",
        "Чтобы сделать финальное предсказание (уже бинарное), нужно установить порог T: все объекты, имеющие предсказание выше порога, относят к классу 1, остальные - к классу 0. "
      ]
    },
    {
      "cell_type": "code",
      "metadata": {
        "id": "ZoL8k7bl4zWM"
      },
      "source": [
        "# рисует один scatter plot\n",
        "def scatter(actual, predicted, T):\n",
        "    plt.scatter(actual, predicted)\n",
        "    plt.xlabel(\"Labels\")\n",
        "    plt.ylabel(\"Predicted probabilities\")\n",
        "    plt.plot([-0.2, 1.2], [T, T])\n",
        "    plt.axis([-0.1, 1.1, -0.1, 1.1])\n",
        "    \n",
        "# рисует несколько scatter plot в таблице, имеющей размеры shape\n",
        "def many_scatters(actuals, predicteds, Ts, titles, shape):\n",
        "    plt.figure(figsize=(shape[1]*5, shape[0]*5))\n",
        "    i = 1\n",
        "    for actual, predicted, T, title in zip(actuals, predicteds, Ts, titles):\n",
        "        ax = plt.subplot(shape[0], shape[1], i)\n",
        "        ax.set_title(title)\n",
        "        i += 1\n",
        "        scatter(actual, predicted, T)"
      ],
      "execution_count": 3,
      "outputs": []
    },
    {
      "cell_type": "markdown",
      "metadata": {
        "id": "Vs7pqqcH4zWM"
      },
      "source": [
        "Идеальная ситуация: существует порог T, верно разделяющий вероятности, соответствующие двум классам. Пример такой ситуации:"
      ]
    },
    {
      "cell_type": "code",
      "metadata": {
        "id": "XD2sEvhD4zWM"
      },
      "source": [
        "actual_0 = np.array([ 0.,  0.,  0.,  0.,  0.,  0.,  0.,  0.,  0.,  0.,  \n",
        "          1.,  1.,  1., 1.,  1.,  1.,  1.,  1.,  1.,  1.,  1.,  1.])\n",
        "predicted_0 = np.array([ 0.19015288,  0.23872404,  0.42707312,  0.15308362,  0.2951875 ,\n",
        "            0.23475641,  0.17882447,  0.36320878,  0.33505476,  0.202608  ,\n",
        "            0.82044786,  0.69750253,  0.60272784,  0.9032949 ,  0.86949819,\n",
        "            0.97368264,  0.97289232,  0.75356512,  0.65189193,  0.95237033,\n",
        "            0.91529693,  0.8458463 ])"
      ],
      "execution_count": 4,
      "outputs": []
    },
    {
      "cell_type": "code",
      "metadata": {
        "colab": {
          "base_uri": "https://localhost:8080/",
          "height": 334
        },
        "id": "bme28Usu4zWN",
        "outputId": "faeb9bd9-5894-421c-a45a-64f25ad0c6f7"
      },
      "source": [
        "plt.figure(figsize=(5, 5))\n",
        "scatter(actual_0, predicted_0, 0.5)"
      ],
      "execution_count": 5,
      "outputs": [
        {
          "output_type": "display_data",
          "data": {
            "image/png": "[encoded data removed]",
            "text/plain": [
              "<Figure size 360x360 with 1 Axes>"
            ]
          },
          "metadata": {
            "tags": [],
            "needs_background": "light"
          }
        }
      ]
    },
    {
      "cell_type": "markdown",
      "metadata": {
        "id": "4gpbMAbw4zWN"
      },
      "source": [
        "Интервалы вероятностей для двух классов прекрасно разделяются порогом T = 0.5."
      ]
    },
    {
      "cell_type": "markdown",
      "metadata": {
        "id": "p88VR8JG4zWN"
      },
      "source": [
        "Чаще всего интервалы накладываются - тогда нужно аккуратно подбирать порог. \n",
        "\n",
        "Самый неправильный алгоритм делает все наоборот: поднимает вероятности класса 0 выше вероятностей класса 1. Если так произошло, стоит посмотреть, не перепутались ли метки 0 и 1 при создании целевого вектора из сырых данных.\n",
        "\n",
        "Примеры:"
      ]
    },
    {
      "cell_type": "code",
      "metadata": {
        "id": "fIlIACEc4zWN"
      },
      "source": [
        "actual_1 = np.array([ 0.,  0.,  0.,  0.,  0.,  0.,  0.,  0.,  0.,  0.,  0.,  0.,  0.,\n",
        "                    0.,  0.,  1.,  1.,  1.,  1.,  1.,  1.,  1.,  1.,  1.,  1.,  1.,\n",
        "                    1.,  1.,  1.,  1.])\n",
        "predicted_1 = np.array([ 0.41310733,  0.43739138,  0.22346525,  0.46746017,  0.58251177,\n",
        "            0.38989541,  0.43634826,  0.32329726,  0.01114812,  0.41623557,\n",
        "            0.54875741,  0.48526472,  0.21747683,  0.05069586,  0.16438548,\n",
        "            0.68721238,  0.72062154,  0.90268312,  0.46486043,  0.99656541,\n",
        "            0.59919345,  0.53818659,  0.8037637 ,  0.272277  ,  0.87428626,\n",
        "            0.79721372,  0.62506539,  0.63010277,  0.35276217,  0.56775664])\n",
        "actual_2 = np.array([ 1.,  1.,  1.,  1.,  1.,  1.,  1.,  1.,  1.,  1.,  1.,  1.,  0.,\n",
        "            0.,  0.,  0.,  0.,  0.,  0.,  0.,  0.,  0.,  0.,  0.])\n",
        "predicted_2 = np.array([ 0.07058193,  0.57877375,  0.42453249,  0.56562439,  0.13372737,\n",
        "            0.18696826,  0.09037209,  0.12609756,  0.14047683,  0.06210359,\n",
        "            0.36812596,  0.22277266,  0.79974381,  0.94843878,  0.4742684 ,\n",
        "            0.80825366,  0.83569563,  0.45621915,  0.79364286,  0.82181152,\n",
        "            0.44531285,  0.65245348,  0.69884206,  0.69455127])"
      ],
      "execution_count": 6,
      "outputs": []
    },
    {
      "cell_type": "code",
      "metadata": {
        "colab": {
          "base_uri": "https://localhost:8080/",
          "height": 350
        },
        "id": "pV0OJEtq4zWO",
        "outputId": "9e43f92d-31e0-4c87-a021-7dec9b2e091f"
      },
      "source": [
        "many_scatters([actual_0, actual_1, actual_2], [predicted_0, predicted_1, predicted_2], \n",
        "              [0.5, 0.5, 0.5], [\"Perfect\", \"Typical\", \"Awful algorithm\"], (1, 3))"
      ],
      "execution_count": 7,
      "outputs": [
        {
          "output_type": "display_data",
          "data": {
            "image/png": "[encoded data removed]",
            "text/plain": [
              "<Figure size 1080x360 with 3 Axes>"
            ]
          },
          "metadata": {
            "tags": [],
            "needs_background": "light"
          }
        }
      ]
    },
    {
      "cell_type": "markdown",
      "metadata": {
        "id": "DttB7keH4zWO"
      },
      "source": [
        "Алгоритм может быть осторожным и стремиться сильно не отклонять вероятности от 0.5, а может рисковать - делать предсказания близакими к нулю или единице.  "
      ]
    },
    {
      "cell_type": "code",
      "metadata": {
        "id": "xVc0pZKt4zWO"
      },
      "source": [
        "# рискующий идеальный алгоитм\n",
        "actual_0r = np.array([ 0.,  0.,  0.,  0.,  0.,  0.,  0.,  0.,  0.,  0.,  0.,  1.,  1.,\n",
        "            1.,  1.,  1.,  1.,  1.,  1.,  1.,  1.,  1.,  1.,  1.])\n",
        "predicted_0r = np.array([ 0.23563765,  0.16685597,  0.13718058,  0.35905335,  0.18498365,\n",
        "            0.20730027,  0.14833803,  0.18841647,  0.01205882,  0.0101424 ,\n",
        "            0.10170538,  0.94552901,  0.72007506,  0.75186747,  0.85893269,\n",
        "            0.90517219,  0.97667347,  0.86346504,  0.72267683,  0.9130444 ,\n",
        "            0.8319242 ,  0.9578879 ,  0.89448939,  0.76379055])\n",
        "# рискующий хороший алгоритм\n",
        "actual_1r = np.array([ 0.,  0.,  0.,  0.,  0.,  0.,  0.,  0.,  0.,  0.,  0.,  0.,  1.,\n",
        "            1.,  1.,  1.,  1.,  1.,  1.,  1.,  1.,  1.,  1.,  1.,  1.,  1.])\n",
        "predicted_1r = np.array([ 0.13832748,  0.0814398 ,  0.16136633,  0.11766141,  0.31784942,\n",
        "            0.14886991,  0.22664977,  0.07735617,  0.07071879,  0.92146468,\n",
        "            0.87579938,  0.97561838,  0.75638872,  0.89900957,  0.93760969,\n",
        "            0.92708013,  0.82003675,  0.85833438,  0.67371118,  0.82115125,\n",
        "            0.87560984,  0.77832734,  0.7593189,  0.81615662,  0.11906964,\n",
        "            0.18857729])"
      ],
      "execution_count": 8,
      "outputs": []
    },
    {
      "cell_type": "code",
      "metadata": {
        "colab": {
          "base_uri": "https://localhost:8080/",
          "height": 621
        },
        "id": "Haigz3234zWP",
        "outputId": "d677093a-374c-4c8c-e2d0-26e5c18e4f5f"
      },
      "source": [
        "many_scatters([actual_0, actual_1, actual_0r, actual_1r], \n",
        "              [predicted_0, predicted_1, predicted_0r, predicted_1r], \n",
        "              [0.5, 0.5, 0.5, 0.5],\n",
        "              [\"Perfect careful\", \"Typical careful\", \"Perfect risky\", \"Typical risky\"], \n",
        "              (2, 2))"
      ],
      "execution_count": 9,
      "outputs": [
        {
          "output_type": "display_data",
          "data": {
            "image/png": "[encoded data removed]",
            "text/plain": [
              "<Figure size 720x720 with 4 Axes>"
            ]
          },
          "metadata": {
            "tags": [],
            "needs_background": "light"
          }
        }
      ]
    },
    {
      "cell_type": "markdown",
      "metadata": {
        "id": "YpYVGjPh4zWP"
      },
      "source": [
        "Также интервалы могут смещаться. Если алгоритм боится ошибок false positive, то он будет чаще делать предсказания, близкие к нулю. \n",
        "Аналогично, чтобы избежать ошибок false negative, логично чаще предсказывать большие вероятности. "
      ]
    },
    {
      "cell_type": "code",
      "metadata": {
        "id": "G1ytEwhF4zWP"
      },
      "source": [
        "actual_10 = np.array([ 0.,  0.,  0.,  0.,  0.,  0.,  0.,  0.,  0.,  0.,  0.,  0.,  0.,\n",
        "                0.,  1.,  1.,  1.,  1.,  1.,  1.,  1.,  1.,  1.,  1.,  1.,  1.,\n",
        "                1.,  1.,  1.])\n",
        "predicted_10 = np.array([ 0.29340574, 0.47340035,  0.1580356 ,  0.29996772,  0.24115457,  0.16177793,\n",
        "                         0.35552878,  0.18867804,  0.38141962,  0.20367392,  0.26418924, 0.16289102, \n",
        "                         0.27774892,  0.32013135,  0.13453541, 0.39478755,  0.96625033,  0.47683139,  \n",
        "                         0.51221325,  0.48938235, 0.57092593,  0.21856972,  0.62773859,  0.90454639,  0.19406537,\n",
        "                         0.32063043,  0.4545493 ,  0.57574841,  0.55847795 ])\n",
        "actual_11 = np.array([ 0.,  0.,  0.,  0.,  0.,  0.,  0.,  0.,  0.,  0.,  0.,  0.,  0.,\n",
        "                0.,  1.,  1.,  1.,  1.,  1.,  1.,  1.,  1.,  1.,  1.,  1.,  1.,  1.])\n",
        "predicted_11 = np.array([ 0.35929566, 0.61562123,  0.71974688,  0.24893298,  0.19056711,  0.89308488,\n",
        "            0.71155538,  0.00903258,  0.51950535,  0.72153302,  0.45936068,  0.20197229,  0.67092724,\n",
        "                         0.81111343,  0.65359427,  0.70044585,  0.61983513,  0.84716577,  0.8512387 ,  \n",
        "                         0.86023125,  0.7659328 ,  0.70362246,  0.70127618,  0.8578749 ,  0.83641841,  \n",
        "                         0.62959491,  0.90445368])"
      ],
      "execution_count": 10,
      "outputs": []
    },
    {
      "cell_type": "code",
      "metadata": {
        "colab": {
          "base_uri": "https://localhost:8080/",
          "height": 350
        },
        "id": "d-jgufHG4zWP",
        "outputId": "e0deefdb-d144-46fa-e905-2fc2234ade39"
      },
      "source": [
        "many_scatters([actual_1, actual_10, actual_11], [predicted_1, predicted_10, predicted_11], \n",
        "              [0.5, 0.5, 0.5], [\"Typical\", \"Avoids FP\", \"Avoids FN\"], (1, 3))"
      ],
      "execution_count": 11,
      "outputs": [
        {
          "output_type": "display_data",
          "data": {
            "image/png": "[encoded data removed]",
            "text/plain": [
              "<Figure size 1080x360 with 3 Axes>"
            ]
          },
          "metadata": {
            "tags": [],
            "needs_background": "light"
          }
        }
      ]
    },
    {
      "cell_type": "markdown",
      "metadata": {
        "id": "LfMi7n8X4zWQ"
      },
      "source": [
        "Мы описали разные характеры векторов вероятностей. Далее мы будем смотреть, как метрики оценивают разные векторы предсказаний, поэтому обязательно выполните ячейки, создающие векторы для визуализации."
      ]
    },
    {
      "cell_type": "markdown",
      "metadata": {
        "id": "6sCZveRj4zWQ"
      },
      "source": [
        "### Метрики, оценивающие бинарные векторы предсказаний"
      ]
    },
    {
      "cell_type": "markdown",
      "metadata": {
        "id": "HCRdqksQ4zWQ"
      },
      "source": [
        "Есть две типичные ситуации, когда специалисты по машинному обучению начинают изучать характеристики метрик качества: \n",
        "1. при участии в соревновании или решении прикладной задачи, когда вектор предсказаний оценивается по конкретной метрике, и нужно построить алгоритм, максимизирующий эту метрику.\n",
        "1. на этапе формализации задачи машинного обучения, когда есть требования прикладной области, и нужно предложить математическую метрику, которая будет соответствовать этим требованиям.\n",
        "\n",
        "Далее мы вкратце рассмотрим каждую метрику с этих двух позиций."
      ]
    },
    {
      "cell_type": "markdown",
      "metadata": {
        "id": "LAgrCN0b4zWQ"
      },
      "source": [
        "#### Precision и recall; accuracy"
      ]
    },
    {
      "cell_type": "markdown",
      "metadata": {
        "id": "F4i8jV_l4zWR"
      },
      "source": [
        "Для начала разберемся с метриками, оценивающие качество уже после бинаризации по порогу T, то есть сравнивающие два бинарных вектора: actual и predicted."
      ]
    },
    {
      "cell_type": "markdown",
      "metadata": {
        "id": "-Zu_uTV-4zWR"
      },
      "source": [
        "Две популярные метрики - precision и recall. Первая показывает, как часто алгоритм предсказывает класс 1 и оказывается правым, а вторая - как много объектов класса 1 алгоритм нашел. \n",
        "\n",
        "Также рассмотрим самую простую и известную метрику - accuracy; она показывает долю правильных ответов.\n",
        "\n",
        "Выясним преимущества и недостатки этих метрик, попробовав их на разных векторах вероятностей."
      ]
    },
    {
      "cell_type": "code",
      "metadata": {
        "id": "96mxpCJ-4zWR"
      },
      "source": [
        "from sklearn.metrics import precision_score, recall_score, accuracy_score"
      ],
      "execution_count": 12,
      "outputs": []
    },
    {
      "cell_type": "code",
      "metadata": {
        "colab": {
          "base_uri": "https://localhost:8080/"
        },
        "id": "On4sgYCd4zWR",
        "outputId": "4c5fa961-3d0d-411d-ac93-5da21d332af2"
      },
      "source": [
        "T = 0.5\n",
        "print(\"Алгоритмы, разные по качеству:\")\n",
        "for actual, predicted, descr in zip([actual_0, actual_1, actual_2], \n",
        "                                    [predicted_0 > T, predicted_1 > T, predicted_2 > T],\n",
        "                                    [\"Perfect:\", \"Typical:\", \"Awful:\"]):\n",
        "    print(descr, \"precision =\", precision_score(actual, predicted), \"recall =\", \\\n",
        "        recall_score(actual, predicted), \";\",\\\n",
        "        \"accuracy =\", accuracy_score(actual, predicted))\n",
        "print()\n",
        "print(\"Осторожный и рискующий алгоритмы:\")\n",
        "for actual, predicted, descr in zip([actual_1, actual_1r], \n",
        "                                    [predicted_1 > T, predicted_1r > T],\n",
        "                                    [\"Typical careful:\", \"Typical risky:\"]):\n",
        "    print(descr, \"precision =\", precision_score(actual, predicted), \"recall =\", \\\n",
        "        recall_score(actual, predicted), \";\",\\\n",
        "        \"accuracy =\", accuracy_score(actual, predicted))\n",
        "print()\n",
        "print(\"Разные склонности алгоритмов к ошибкам FP и FN:\")\n",
        "for actual, predicted, descr in zip([actual_10, actual_11], \n",
        "                                    [predicted_10 > T, predicted_11 > T], \n",
        "                                    [\"Avoids FP:\", \"Avoids FN:\"]):\n",
        "    print(descr, \"precision =\", precision_score(actual, predicted), \"recall =\", \\\n",
        "        recall_score(actual, predicted), \";\",\\\n",
        "        \"accuracy =\", accuracy_score(actual, predicted))"
      ],
      "execution_count": 13,
      "outputs": [
        {
          "output_type": "stream",
          "text": [
            "Алгоритмы, разные по качеству:\n",
            "Perfect: precision = 1.0 recall = 1.0 ; accuracy = 1.0\n",
            "Typical: precision = 0.8571428571428571 recall = 0.8 ; accuracy = 0.8333333333333334\n",
            "Awful: precision = 0.18181818181818182 recall = 0.16666666666666666 ; accuracy = 0.20833333333333334\n",
            "\n",
            "Осторожный и рискующий алгоритмы:\n",
            "Typical careful: precision = 0.8571428571428571 recall = 0.8 ; accuracy = 0.8333333333333334\n",
            "Typical risky: precision = 0.8 recall = 0.8571428571428571 ; accuracy = 0.8076923076923077\n",
            "\n",
            "Разные склонности алгоритмов к ошибкам FP и FN:\n",
            "Avoids FP: precision = 1.0 recall = 0.4666666666666667 ; accuracy = 0.7241379310344828\n",
            "Avoids FN: precision = 0.6190476190476191 recall = 1.0 ; accuracy = 0.7037037037037037\n"
          ],
          "name": "stdout"
        }
      ]
    },
    {
      "cell_type": "markdown",
      "metadata": {
        "id": "9dFXqogn4zWS"
      },
      "source": [
        "Все три метрики легко различают простые случаи хороших и плохих алгоритмов. Обратим внимание, что метрики имеют область значений  [0, 1], и потому их легко интерпретировать.\n",
        "\n",
        "Метрикам не важны величины вероятностей, им важно только то, сколько объектов неправильно зашли за установленную границу (в данном случае T = 0.5).\n",
        "\n",
        "Метрика accuracy дает одинаковый вес ошибкам false positive и false negative, зато пара метрик precision и recall однозначно идентифицирует это различие. Собственно, их для того и используют, чтобы контролировать ошибки FP и FN.\n",
        "\n",
        "Мы измерили три метрики, фиксировав порог T = 0.5, потому что для почти всех картинок он кажется оптимальным. Давайте посмотрим на последней (самой интересной для этих метрик) группе векторов, как меняются precision и recall при увеличении порога."
      ]
    },
    {
      "cell_type": "code",
      "metadata": {
        "id": "jJjjIaXi4zWS"
      },
      "source": [
        "from sklearn.metrics import precision_recall_curve"
      ],
      "execution_count": 14,
      "outputs": []
    },
    {
      "cell_type": "code",
      "metadata": {
        "colab": {
          "base_uri": "https://localhost:8080/",
          "height": 350
        },
        "id": "cI1hgyZ04zWS",
        "outputId": "7961f22a-79f4-4905-d473-fc950ed29240"
      },
      "source": [
        "precs = []\n",
        "recs = []\n",
        "threshs = []\n",
        "labels = [\"Typical\", \"Avoids FP\", \"Avoids FN\"]\n",
        "for actual, predicted in zip([actual_1, actual_10, actual_11], \n",
        "                                    [predicted_1, predicted_10, predicted_11]):\n",
        "    prec, rec, thresh = precision_recall_curve(actual, predicted)\n",
        "    precs.append(prec)\n",
        "    recs.append(rec)\n",
        "    threshs.append(thresh)\n",
        "plt.figure(figsize=(15, 5))\n",
        "for i in range(3):\n",
        "    ax = plt.subplot(1, 3, i+1)\n",
        "    plt.plot(threshs[i], precs[i][:-1], label=\"precision\")\n",
        "    plt.plot(threshs[i], recs[i][:-1], label=\"recall\")\n",
        "    plt.xlabel(\"threshold\")\n",
        "    ax.set_title(labels[i])\n",
        "    plt.legend()"
      ],
      "execution_count": 15,
      "outputs": [
        {
          "output_type": "display_data",
          "data": {
            "image/png": "[encoded data removed]",
            "text/plain": [
              "<Figure size 1080x360 with 3 Axes>"
            ]
          },
          "metadata": {
            "tags": [],
            "needs_background": "light"
          }
        }
      ]
    },
    {
      "cell_type": "markdown",
      "metadata": {
        "id": "Q93_bcE54zWS"
      },
      "source": [
        "При увеличении порога мы делаем меньше ошибок FP и больше ошибок FN, поэтому одна из кривых растет, а вторая  - падает. По такому графику можно подобрать оптимальное значение порога, при котором precision и recall будут приемлемы. Если такого порога не нашлось, нужно обучать другой алгоритм. \n",
        "\n",
        "Оговоримся, что приемлемые значения precision и recall определяются предметной областью. Например, в задаче определения, болен ли пациент определенной болезнью (0 - здоров, 1 - болен), ошибок false negative стараются избегать, требуя recall около 0.9. Можно сказать человеку, что он болен, и при дальнейшей диагностике выявить ошибку; гораздо хуже пропустить наличие болезни."
      ]
    },
    {
      "cell_type": "markdown",
      "metadata": {
        "id": "NsqmBMYJ4zWT"
      },
      "source": [
        "__<font color=\"green\" size=5>Programming assignment: problem 1. </font>__ Фиксируем порог T = 0.65; по графикам можно примерно узнать, чему равны метрики на трех выбранных парах векторов (actual, predicted). Вычислите точные precision и recall для этих трех пар векторов.\n",
        "\n",
        "6 полученных чисел запишите в текстовый файл в таком порядке:\n",
        "\n",
        "precision_1 recall_1 precision_10 recall_10 precision_11 recall_11\n",
        "\n",
        "Цифры XXX после пробела соответствуют таким же цифрам в названиях переменных actual_XXX и predicted_XXX.\n",
        "\n",
        "Передайте ответ в функцию write_answer_1. Полученный файл загрузите в форму."
      ]
    },
    {
      "cell_type": "code",
      "metadata": {
        "id": "QILhEguH4zWT"
      },
      "source": [
        "############### Programming assignment: problem 1 ###############"
      ],
      "execution_count": 16,
      "outputs": []
    },
    {
      "cell_type": "code",
      "metadata": {
        "id": "Azp8UOi74zWT"
      },
      "source": [
        "def write_answer_1(precision_1, recall_1, precision_10, recall_10, precision_11, recall_11):\n",
        "    answers = [precision_1, recall_1, precision_10, recall_10, precision_11, recall_11]\n",
        "    with open(\"pa_metrics_problem1.txt\", \"w\") as fout:\n",
        "        fout.write(\" \".join([str(num) for num in answers]))"
      ],
      "execution_count": 17,
      "outputs": []
    },
    {
      "cell_type": "code",
      "metadata": {
        "id": "Y1mxIJnW8tnZ"
      },
      "source": [
        "T = 0.65\n",
        "write_answer_1(precision_score(actual_1, predicted_1>T), \n",
        "               recall_score(actual_1, predicted_1>T),\n",
        "               precision_score(actual_10, predicted_10>T), \n",
        "               recall_score(actual_10, predicted_10>T),\n",
        "               precision_score(actual_11, predicted_11>T), \n",
        "               recall_score(actual_11, predicted_11>T))\n"
      ],
      "execution_count": 18,
      "outputs": []
    },
    {
      "cell_type": "markdown",
      "metadata": {
        "id": "yOEFBYVk4zWT"
      },
      "source": [
        "#### F1-score"
      ]
    },
    {
      "cell_type": "markdown",
      "metadata": {
        "id": "LQcknUX54zWT"
      },
      "source": [
        "Очевидный недостаток пары метрик precision-recall - в том, что их две: непонятно, как ранжировать алгоритмы. Чтобы этого избежать, используют F1-метрику, которая равна среднему гармоническому precision и recall. \n",
        "F1-метрика будет равна 1, если и только если precision = 1 и recall = 1 (идеальный алгоритм). \n",
        "\n",
        "(: Обмануть F1 сложно: если одна из величин маленькая, а другая близка к 1 (по графикам видно, что такое соотношение иногда легко получить), F1 будет далека от 1. F1-метрику сложно оптимизировать, потому что для этого нужно добиваться высокой полноты и точности одновременно.\n",
        "\n",
        "Например, посчитаем F1 для того же набора векторов, для которого мы строили графики (мы помним, что там одна из кривых быстро выходит в единицу)."
      ]
    },
    {
      "cell_type": "code",
      "metadata": {
        "id": "Yf-iMbFI4zWU"
      },
      "source": [
        "from sklearn.metrics import f1_score"
      ],
      "execution_count": 19,
      "outputs": []
    },
    {
      "cell_type": "code",
      "metadata": {
        "colab": {
          "base_uri": "https://localhost:8080/"
        },
        "id": "sbkGf-rx4zWU",
        "outputId": "700ed13a-d0e1-4e0c-f415-637b27a214b7"
      },
      "source": [
        "T = 0.5\n",
        "print(\"Разные склонности алгоритмов к ошибкам FP и FN:\")\n",
        "for actual, predicted, descr in zip([actual_1, actual_10, actual_11], \n",
        "                                    [predicted_1 > T, predicted_10 > T, predicted_11 > T], \n",
        "                                    [\"Typical:\", \"Avoids FP:\", \"Avoids FN:\"]):\n",
        "    print(descr, \"f1 =\", f1_score(actual, predicted))"
      ],
      "execution_count": 20,
      "outputs": [
        {
          "output_type": "stream",
          "text": [
            "Разные склонности алгоритмов к ошибкам FP и FN:\n",
            "Typical: f1 = 0.8275862068965518\n",
            "Avoids FP: f1 = 0.6363636363636364\n",
            "Avoids FN: f1 = 0.7647058823529412\n"
          ],
          "name": "stdout"
        }
      ]
    },
    {
      "cell_type": "markdown",
      "metadata": {
        "id": "N8sRTOYD4zWU"
      },
      "source": [
        "F1-метрика в двух последних случаях, когда одна из парных метрик равна 1, значительно меньше, чем в первом, сбалансированном случае."
      ]
    },
    {
      "cell_type": "markdown",
      "metadata": {
        "id": "-FIcbGNC4zWU"
      },
      "source": [
        "__<font color=\"green\" size=5>Programming assignment: problem 2. </font>__ На precision и recall влияют и характер вектора вероятностей, и установленный порог. \n",
        "Для тех же пар (actual, predicted), что и в предыдущей задаче, найдите оптимальные пороги, максимизирующие F1_score. Будем рассматривать только пороги вида T = 0.1 * k, k - целое; соответственно, нужно найти три значения k. Если f1 максимизируется при нескольких значениях k, укажите наименьшее из них.\n",
        "\n",
        "Запишите найденные числа k в следующем порядке:\n",
        "\n",
        "k_1, k_10, k_11\n",
        "\n",
        "Цифры XXX после пробела соответствуют таким же цифрам в названиях переменных actual_XXX и predicted_XXX.\n",
        "\n",
        "Передайте ответ в функцию write_answer_2. Загрузите файл в форму.\n",
        "\n",
        "Если вы запишите список из трех найденных k в том же порядке в переменную ks, то с помощью кода ниже можно визуализировать найденные пороги:"
      ]
    },
    {
      "cell_type": "code",
      "metadata": {
        "id": "07gL1HgQ4zWU"
      },
      "source": [
        "############### Programming assignment: problem 2 ###############\n",
        "\n",
        "ks = [0,0,0]\n",
        "f1_max_1 = 0\n",
        "f1_max_10 = 0\n",
        "f1_max_11 = 0\n",
        "\n",
        "for k in range(11):\n",
        "  T = 0.1 * k\n",
        "  if f1_score(actual_1, predicted_1>T) > f1_max_1:\n",
        "    f1_max_1 = f1_score(actual_1, predicted_1>T)\n",
        "    ks[0] = k\n",
        "  if f1_score(actual_10, predicted_10>T) > f1_max_10:\n",
        "    f1_max_10 = f1_score(actual_10, predicted_10>T)\n",
        "    ks[1] = k\n",
        "  if f1_score(actual_11, predicted_11>T) > f1_max_11:\n",
        "    f1_max_11 = f1_score(actual_11, predicted_11>T)\n",
        "    ks[2] = k"
      ],
      "execution_count": 21,
      "outputs": []
    },
    {
      "cell_type": "code",
      "metadata": {
        "colab": {
          "base_uri": "https://localhost:8080/",
          "height": 350
        },
        "id": "4lbrkH2F4zWV",
        "outputId": "7c9f9cb4-034a-4873-9b63-7a9357555e79"
      },
      "source": [
        "many_scatters([actual_1, actual_10, actual_11], [predicted_1, predicted_10, predicted_11], \n",
        "              np.array(ks)*0.1, [\"Typical\", \"Avoids FP\", \"Avoids FN\"], (1, 3))"
      ],
      "execution_count": 22,
      "outputs": [
        {
          "output_type": "display_data",
          "data": {
            "image/png": "[encoded data removed]",
            "text/plain": [
              "<Figure size 1080x360 with 3 Axes>"
            ]
          },
          "metadata": {
            "tags": [],
            "needs_background": "light"
          }
        }
      ]
    },
    {
      "cell_type": "code",
      "metadata": {
        "id": "sG5DxCix4zWV"
      },
      "source": [
        "def write_answer_2(k_1, k_10, k_11):\n",
        "    answers = [k_1, k_10, k_11]\n",
        "    with open(\"pa_metrics_problem2.txt\", \"w\") as fout:\n",
        "        fout.write(\" \".join([str(num) for num in answers]))\n",
        "\n",
        "write_answer_2(ks[0], ks[1], ks[2])"
      ],
      "execution_count": 23,
      "outputs": []
    },
    {
      "cell_type": "markdown",
      "metadata": {
        "id": "NqSNYaPT4zWV"
      },
      "source": [
        "### Метрики, оценивающие векторы вероятностей класса 1"
      ]
    },
    {
      "cell_type": "markdown",
      "metadata": {
        "id": "dLHNTDCU4zWV"
      },
      "source": [
        "Рассмотренные метрики удобно интерпретировать, но при их использовании мы не учитываем большую часть информации, полученной от алгоритма. В некоторых задачах вероятности нужны в чистом виде, например, если мы предсказываем, выиграет ли команда в футбольном матче, и величина вероятности влияет на размер ставки за эту команду. Даже если в конце концов мы все равно бинаризуем предсказание, хочется следить за характером вектора вероятности. "
      ]
    },
    {
      "cell_type": "markdown",
      "metadata": {
        "id": "wXXKyKCj4zWV"
      },
      "source": [
        "#### Log_loss"
      ]
    },
    {
      "cell_type": "markdown",
      "metadata": {
        "id": "wf6d_Xnh4zWV"
      },
      "source": [
        "Log_loss вычисляет правдоподобие меток в actual с вероятностями из predicted, взятое с противоположным знаком:\n",
        "\n",
        "$log\\_loss(actual, predicted) = - \\frac 1 n \\sum_{i=1}^n (actual_i \\cdot \\log (predicted_i) + (1-actual_i) \\cdot \\log (1-predicted_i))$, $n$ - длина векторов.\n",
        "\n",
        "Соответственно, эту метрику нужно минимизировать. "
      ]
    },
    {
      "cell_type": "markdown",
      "metadata": {
        "id": "AXLlFkJu4zWW"
      },
      "source": [
        "Вычислим ее на наших векторах:"
      ]
    },
    {
      "cell_type": "code",
      "metadata": {
        "id": "G_QuSJ9e4zWW"
      },
      "source": [
        "from sklearn.metrics import log_loss"
      ],
      "execution_count": 24,
      "outputs": []
    },
    {
      "cell_type": "code",
      "metadata": {
        "colab": {
          "base_uri": "https://localhost:8080/"
        },
        "id": "9AfQkWAH4zWW",
        "outputId": "06c95ac7-bcd1-48f2-d7ff-9e112cb0e2f3"
      },
      "source": [
        "print(\"Алгоритмы, разные по качеству:\")\n",
        "for actual, predicted, descr in zip([actual_0, actual_1, actual_2], \n",
        "                                    [predicted_0, predicted_1, predicted_2],\n",
        "                                    [\"Perfect:\", \"Typical:\", \"Awful:\"]):\n",
        "    print(descr, log_loss(actual, predicted))\n",
        "print()\n",
        "print(\"Осторожный и рискующий алгоритмы:\")\n",
        "for actual, predicted, descr in zip([actual_0, actual_0r, actual_1, actual_1r], \n",
        "                                    [predicted_0, predicted_0r, predicted_1, predicted_1r],\n",
        "                                    [\"Ideal careful\", \"Ideal risky\", \"Typical careful:\", \"Typical risky:\"]):\n",
        "    print(descr, log_loss(actual, predicted))\n",
        "print()\n",
        "print(\"Разные склонности алгоритмов к ошибкам FP и FN:\")\n",
        "for actual, predicted, descr in zip([actual_10, actual_11], \n",
        "                                    [predicted_10, predicted_11], \n",
        "                                    [\"Avoids FP:\", \"Avoids FN:\"]):\n",
        "    print(descr, log_loss(actual, predicted))"
      ],
      "execution_count": 25,
      "outputs": [
        {
          "output_type": "stream",
          "text": [
            "Алгоритмы, разные по качеству:\n",
            "Perfect: 0.24921263759186213\n",
            "Typical: 0.4645068222557676\n",
            "Awful: 1.5270248809234201\n",
            "\n",
            "Осторожный и рискующий алгоритмы:\n",
            "Ideal careful 0.24921263759186213\n",
            "Ideal risky 0.17061947914666056\n",
            "Typical careful: 0.4645068222557676\n",
            "Typical risky: 0.6138745922344455\n",
            "\n",
            "Разные склонности алгоритмов к ошибкам FP и FN:\n",
            "Avoids FP: 0.5849339709893446\n",
            "Avoids FN: 0.5886791288814904\n"
          ],
          "name": "stdout"
        }
      ]
    },
    {
      "cell_type": "markdown",
      "metadata": {
        "id": "UZs4mgcW4zWW"
      },
      "source": [
        "Как и предыдущие метрики, log_loss хорошо различает идеальный, типичный и плохой случаи. Но обратите внимание, что интерпретировать величину достаточно сложно: метрика не достигает нуля никогда и не имеет верхней границы. Поэтому даже для идеального алгоритма, если смотреть только на одно значение log_loss, невозможно понять, что он идеальный.\n",
        "\n",
        "Но зато эта метрика различает осторожный и рискующий алгоритмы. Как мы видели выше, в случаях Typical careful и Typical risky количество ошибок при бинаризации по T = 0.5 примерно одинаковое, в случаях Ideal ошибок вообще нет. Однако за неудачно угаданные классы в Typical рискующему алгоритму приходится платить большим увеличением log_loss, чем осторожному алгоритму. С другой стороны, за удачно угаданные классы рискованный идеальный алгоритм получает меньший log_loss, чем осторожный идеальный алгоритм.\n",
        "\n",
        "Таким образом, log_loss чувствителен и к вероятностям, близким к 0 и 1, и к вероятностям, близким к 0.5. \n",
        "\n",
        "Ошибки FP и FN обычный Log_loss различать не умеет."
      ]
    },
    {
      "cell_type": "markdown",
      "metadata": {
        "id": "E_xKqkAq4zWW"
      },
      "source": [
        "Однако нетрудно сделать обобщение log_loss на случай, когда нужно больше штрафовать FP или FN: для этого достаточно добавить выпуклую (то есть неотрицательную и суммирующуюся к единице) комбинацию из двух коэффициентов к слагаемым правдоподобия. Например, давайте штрафовать false positive:\n",
        "\n",
        "$weighted\\_log\\_loss(actual, predicted) = -\\frac 1 n \\sum_{i=1}^n (0.3\\, \\cdot actual_i \\cdot \\log (predicted_i) + 0.7\\,\\cdot (1-actual_i)\\cdot \\log (1-predicted_i))$\n",
        "\n",
        "Если алгоритм неверно предсказывает большую вероятность первому классу, то есть объект на самом деле принадлежит классу 0, то первое слагаемое в скобках равно нулю, а второе учитывается с большим весом.  "
      ]
    },
    {
      "cell_type": "markdown",
      "metadata": {
        "id": "-g0GLtmm4zWW"
      },
      "source": [
        "__<font color=\"green\" size=5>Programming assignment: problem 3. </font>__ Напишите функцию, которая берет на вход векторы actual и predicted и возвращает модифицированный Log-Loss, вычисленный по формуле выше. Вычислите ее значение (обозначим его wll) на тех же векторах, на которых мы вычисляли обычный log_loss, и запишите в файл в следующем порядке:\n",
        "\n",
        "wll_0 wll_1 wll_2 wll_0r wll_1r wll_10 wll_11\n",
        "\n",
        "Цифры XXX после пробела соответствуют таким же цифрам в названиях переменных actual_XXX и predicted_XXX.\n",
        "\n",
        "Передайте ответ в функцию write_answer3. Загрузите файл в форму."
      ]
    },
    {
      "cell_type": "code",
      "metadata": {
        "scrolled": true,
        "id": "NzmwYBqT4zWX"
      },
      "source": [
        "############### Programming assignment: problem 3 ###############\n",
        "def weighted_log_loss(actual, predicted):\n",
        "    return -1 / len(actual) * np.sum(0.3 * actual * np.log(predicted) + 0.7 * (1 - actual) * np.log(1 - predicted))\n",
        "  \n",
        "\n",
        "wll_0 = weighted_log_loss(actual_0, predicted_0)\n",
        "wll_1 = weighted_log_loss(actual_1, predicted_1)\n",
        "wll_2 = weighted_log_loss(actual_2, predicted_2)\n",
        "wll_0r = weighted_log_loss(actual_0r, predicted_0r)\n",
        "wll_1r = weighted_log_loss(actual_1r, predicted_1r)\n",
        "wll_10 = weighted_log_loss(actual_10, predicted_10)\n",
        "wll_11 = weighted_log_loss(actual_11, predicted_11)"
      ],
      "execution_count": 26,
      "outputs": []
    },
    {
      "cell_type": "code",
      "metadata": {
        "id": "cR5BQXA-4zWX"
      },
      "source": [
        "def write_answer_3(wll_0, wll_1, wll_2, wll_0r, wll_1r, wll_10, wll_11):\n",
        "    answers = [wll_0, wll_1, wll_2, wll_0r, wll_1r, wll_10, wll_11]\n",
        "    with open(\"pa_metrics_problem3.txt\", \"w\") as fout:\n",
        "        fout.write(\" \".join([str(num) for num in answers]))\n",
        "\n",
        "write_answer_3(wll_0, wll_1, wll_2, wll_0r, wll_1r, wll_10, wll_11)"
      ],
      "execution_count": 27,
      "outputs": []
    },
    {
      "cell_type": "markdown",
      "metadata": {
        "id": "8VfzW1F64zWX"
      },
      "source": [
        "Обратите внимание на разницу weighted_log_loss между случаями Avoids FP и Avoids FN."
      ]
    },
    {
      "cell_type": "markdown",
      "metadata": {
        "id": "cE159V_r4zWX"
      },
      "source": [
        "#### ROC и AUC"
      ]
    },
    {
      "cell_type": "markdown",
      "metadata": {
        "id": "LKcyWbuY4zWX"
      },
      "source": [
        "При построении ROC-кривой (receiver operating characteristic) происходит варьирование порога бинаризации вектора вероятностей, и  вычисляются величины, зависящие от числа ошибок FP и FN. Эти величины задаются так, чтобы в случае, когда существует порог для идеального разделения классов, ROC-кривая проходила через определенную точку - верхний левый угол квадрата [0, 1] x [0, 1]. Кроме того, она всегда проходит через левый нижний и правый верхний углы. Получается наглядная визуализация качества алгоритма. С целью охарактеризовать эту визуализацию численно, ввели понятие AUC - площадь под ROC-кривой.\n",
        "\n",
        "Есть несложный и эффективный алгоритм, который за один проход по выборке вычисляет ROC-кривую и AUC, но мы не будем вдаваться в детали."
      ]
    },
    {
      "cell_type": "markdown",
      "metadata": {
        "id": "vJsEX7BJ4zWX"
      },
      "source": [
        "Построим ROC-кривые для наших задач:"
      ]
    },
    {
      "cell_type": "code",
      "metadata": {
        "id": "VeePWHMp4zWY"
      },
      "source": [
        "from sklearn.metrics import roc_curve, roc_auc_score"
      ],
      "execution_count": 28,
      "outputs": []
    },
    {
      "cell_type": "code",
      "metadata": {
        "colab": {
          "base_uri": "https://localhost:8080/",
          "height": 371
        },
        "id": "etF-gFs14zWY",
        "outputId": "5a666265-1a1c-4048-8623-66630a4dbae4"
      },
      "source": [
        "plt.figure(figsize=(15, 5))\n",
        "plt.subplot(1, 3, 1)\n",
        "aucs = \"\"\n",
        "for actual, predicted, descr in zip([actual_0, actual_1, actual_2], \n",
        "                                    [predicted_0, predicted_1, predicted_2],\n",
        "                                    [\"Perfect\", \"Typical\", \"Awful\"]):\n",
        "    fpr, tpr, thr = roc_curve(actual, predicted)\n",
        "    plt.plot(fpr, tpr, label=descr)\n",
        "    aucs += descr + \":%3f\"%roc_auc_score(actual, predicted) + \" \"\n",
        "plt.xlabel(\"false positive rate\")\n",
        "plt.ylabel(\"true positive rate\")\n",
        "plt.legend(loc=4)\n",
        "plt.axis([-0.1, 1.1, -0.1, 1.1])\n",
        "plt.subplot(1, 3, 2)\n",
        "for actual, predicted, descr in zip([actual_0, actual_0r, actual_1, actual_1r], \n",
        "                                    [predicted_0, predicted_0r, predicted_1, predicted_1r],\n",
        "                                    [\"Ideal careful\", \"Ideal Risky\", \"Typical careful\", \"Typical risky\"]):\n",
        "    fpr, tpr, thr = roc_curve(actual, predicted)\n",
        "    aucs += descr + \":%3f\"%roc_auc_score(actual, predicted) + \" \"\n",
        "    plt.plot(fpr, tpr, label=descr)\n",
        "plt.xlabel(\"false positive rate\")\n",
        "plt.ylabel(\"true positive rate\")\n",
        "plt.legend(loc=4)\n",
        "plt.axis([-0.1, 1.1, -0.1, 1.1])\n",
        "plt.subplot(1, 3, 3)\n",
        "for actual, predicted, descr in zip([actual_1, actual_10, actual_11], \n",
        "                                    [predicted_1, predicted_10, predicted_11], \n",
        "                                    [\"Typical\", \"Avoids FP\", \"Avoids FN\"]):\n",
        "    fpr, tpr, thr = roc_curve(actual, predicted)\n",
        "    aucs += descr + \":%3f\"%roc_auc_score(actual, predicted) + \" \"\n",
        "    plt.plot(fpr, tpr, label=descr)\n",
        "plt.xlabel(\"false positive rate\")\n",
        "plt.ylabel(\"true positive rate\")\n",
        "plt.legend(loc=4)\n",
        "plt.axis([-0.1, 1.1, -0.1, 1.1])\n",
        "print(aucs)"
      ],
      "execution_count": 29,
      "outputs": [
        {
          "output_type": "stream",
          "text": [
            "Perfect:1.000000 Typical:0.884444 Awful:0.041667 Ideal careful:1.000000 Ideal Risky:1.000000 Typical careful:0.884444 Typical risky:0.738095 Typical:0.884444 Avoids FP:0.819048 Avoids FN:0.780220 \n"
          ],
          "name": "stdout"
        },
        {
          "output_type": "display_data",
          "data": {
            "image/png": "[encoded data removed]",
            "text/plain": [
              "<Figure size 1080x360 with 3 Axes>"
            ]
          },
          "metadata": {
            "tags": [],
            "needs_background": "light"
          }
        }
      ]
    },
    {
      "cell_type": "markdown",
      "metadata": {
        "id": "fjI9XwWM4zWY"
      },
      "source": [
        "Чем больше объектов в выборке, тем более гладкой выглядит кривая (хотя на самом деле она все равно ступенчатая).\n",
        "\n",
        "Как и ожидалось, кривые всех идеальных алгоритмов проходят через левый верхний угол. На первом графике также показана типичная ROC-кривая (обычно на практике они не доходят до \"идеального\" угла). \n",
        "\n",
        "AUC рискующего алгоритма значительном меньше, чем у осторожного, хотя осторожный и рискущий идеальные алгоритмы не различаются по ROC или AUC. Поэтому стремиться увеличить зазор между интервалами вероятностей классов смысла не имеет.\n",
        "\n",
        "Наблюдается перекос кривой в случае, когда алгоритму свойственны ошибки FP или FN. Однако по величине AUC это отследить невозможно (кривые могут быть симметричны относительно диагонали (0, 1)-(1, 0)). "
      ]
    },
    {
      "cell_type": "markdown",
      "metadata": {
        "id": "3OC6I7Sz4zWY"
      },
      "source": [
        "После того, как кривая построена, удобно выбирать порог бинаризации, в котором будет достигнут компромисс между FP или FN. Порог соответствует точке на кривой. Если мы хотим избежать ошибок FP, нужно выбирать точку на левой стороне квадрата (как можно выше), если FN - точку на верхней стороне квадрата (как можно левее). Все промежуточные точки будут соответствовать разным пропорциям FP и FN."
      ]
    },
    {
      "cell_type": "markdown",
      "metadata": {
        "id": "XjSyeXsU4zWZ"
      },
      "source": [
        "__<font color=\"green\" size=5>Programming assignment: problem 4. </font>__ На каждой кривой найдите точку, которая ближе всего к левому верхнему углу (ближе в смысле обычного евклидова расстояния), этой точке соответствует некоторый порог бинаризации. Запишите в выходной файл пороги в следующем порядке:\n",
        "\n",
        "T_0 T_1 T_2 T_0r T_1r T_10 T_11\n",
        "\n",
        "Цифры XXX после пробела соответствуют таким же цифрам в названиях переменных actual_XXX и predicted_XXX.\n",
        "\n",
        "Если порогов, минимизирующих расстояние, несколько, выберите __наибольший__.\n",
        "\n",
        "Передайте ответ в функцию write_answer_4. Загрузите файл в форму.\n",
        "\n",
        "Пояснение: функция roc_curve возвращает три значения: FPR (массив абсции точек ROC-кривой), TPR (массив ординат точек ROC-кривой) и thresholds (массив порогов, соответствующих точкам).\n",
        "\n",
        "Рекомендуем отрисовывать найденную точку на графике с помощью функции plt.scatter."
      ]
    },
    {
      "cell_type": "code",
      "metadata": {
        "colab": {
          "base_uri": "https://localhost:8080/",
          "height": 1000
        },
        "id": "H72oGBkA4zWZ",
        "outputId": "fed92fa6-51b4-48fc-ab8e-814e769257bf"
      },
      "source": [
        "############### Programming assignment: problem 4 ###############\n",
        "\n",
        "def get_distance(fpr, tpr):\n",
        "    return ((fpr) ** 2 + (tpr - 1) ** 2) ** 0.5\n",
        "\n",
        "def optimal_threshold(actual, predicted, title):\n",
        "  fpr, tpr, thr = roc_curve(actual, predicted)\n",
        "\n",
        "  fpr_opt = None\n",
        "  tpr_opt = None\n",
        "  thr_opt = None\n",
        "  dist_opt = None\n",
        "  for i in range(len(fpr)):\n",
        "    dist_now = get_distance(fpr[i], tpr[i])\n",
        "    if dist_opt is None or dist_now < dist_opt :\n",
        "      dist_opt = dist_now\n",
        "      fpr_opt = fpr[i]\n",
        "      tpr_opt = tpr[i]\n",
        "      thr_opt = thr[i]\n",
        "\n",
        "  plt.plot(fpr, tpr)\n",
        "  plt.title(title)\n",
        "  plt.xlabel(\"false positive rate\")\n",
        "  plt.ylabel(\"true positive rate\")\n",
        "  plt.scatter([fpr_opt], [tpr_opt], color = 'pink')\n",
        "  plt.show()\n",
        "  return thr_opt\n",
        "      \n",
        "T_0 = optimal_threshold(actual_0, predicted_0, 'Perfect')\n",
        "T_1 = optimal_threshold(actual_1, predicted_1, 'Typical')\n",
        "T_2 = optimal_threshold(actual_2, predicted_2, 'Awful')\n",
        "T_0r = optimal_threshold(actual_0r, predicted_0r, 'Ideal risky')\n",
        "T_1r = optimal_threshold(actual_1r, predicted_1r, 'Typical risky')\n",
        "T_10 = optimal_threshold(actual_10, predicted_10, 'Avoids FP')\n",
        "T_11 = optimal_threshold(actual_11, predicted_11, 'Avoids FN')"
      ],
      "execution_count": 38,
      "outputs": [
        {
          "output_type": "display_data",
          "data": {
            "image/png": "[encoded data removed]",
            "text/plain": [
              "<Figure size 432x288 with 1 Axes>"
            ]
          },
          "metadata": {
            "tags": [],
            "needs_background": "light"
          }
        },
        {
          "output_type": "display_data",
          "data": {
            "image/png": "[encoded data removed]",
            "text/plain": [
              "<Figure size 432x288 with 1 Axes>"
            ]
          },
          "metadata": {
            "tags": [],
            "needs_background": "light"
          }
        },
        {
          "output_type": "display_data",
          "data": {
            "image/png": "[encoded data removed]",
            "text/plain": [
              "<Figure size 432x288 with 1 Axes>"
            ]
          },
          "metadata": {
            "tags": [],
            "needs_background": "light"
          }
        },
        {
          "output_type": "display_data",
          "data": {
            "image/png": "[encoded data removed]",
            "text/plain": [
              "<Figure size 432x288 with 1 Axes>"
            ]
          },
          "metadata": {
            "tags": [],
            "needs_background": "light"
          }
        },
        {
          "output_type": "display_data",
          "data": {
            "image/png": "[encoded data removed]",
            "text/plain": [
              "<Figure size 432x288 with 1 Axes>"
            ]
          },
          "metadata": {
            "tags": [],
            "needs_background": "light"
          }
        },
        {
          "output_type": "display_data",
          "data": {
            "image/png": "[encoded data removed]",
            "text/plain": [
              "<Figure size 432x288 with 1 Axes>"
            ]
          },
          "metadata": {
            "tags": [],
            "needs_background": "light"
          }
        },
        {
          "output_type": "display_data",
          "data": {
            "image/png": "[encoded data removed]",
            "text/plain": [
              "<Figure size 432x288 with 1 Axes>"
            ]
          },
          "metadata": {
            "tags": [],
            "needs_background": "light"
          }
        }
      ]
    },
    {
      "cell_type": "code",
      "metadata": {
        "id": "EcZasSa14zWa"
      },
      "source": [
        "def write_answer_4(T_0, T_1, T_2, T_0r, T_1r, T_10, T_11):\n",
        "    answers = [T_0, T_1, T_2, T_0r, T_1r, T_10, T_11]\n",
        "    with open(\"pa_metrics_problem4.txt\", \"w\") as fout:\n",
        "        fout.write(\" \".join([str(num) for num in answers]))\n",
        "\n",
        "write_answer_4(T_0, T_1, T_2, T_0r, T_1r, T_10, T_11)"
      ],
      "execution_count": 39,
      "outputs": []
    },
    {
      "cell_type": "markdown",
      "metadata": {
        "id": "QdrpOwHq4zWa"
      },
      "source": [
        "Наподобие roc_curve, строят также precision-recall curve и ищут площадь под ней."
      ]
    },
    {
      "cell_type": "markdown",
      "metadata": {
        "id": "eMojk-uv4zWa"
      },
      "source": [
        "### Заключение\n",
        "\n",
        "Мы рассмотрели несколько метрик бинарной классификации. Некоторые из них, например, log_loss, обобщаются на многоклассовый случай. Если метрику сложно обобщить в виде формулы, задачу многоклассовой классификации рассматривают как совокупность задач бинарной классификации и затем особыми способами усредняют метрику (например, micro и macro averaging).\n",
        "\n",
        "На практике всегда полезно визуализировать векторы, которые выдает ваш алгоритм, чтобы понимать, какие он делает ошибки при разных порогах и как метрика реагирует на выдаваемые векторы предсказаний."
      ]
    }
  ]
}
