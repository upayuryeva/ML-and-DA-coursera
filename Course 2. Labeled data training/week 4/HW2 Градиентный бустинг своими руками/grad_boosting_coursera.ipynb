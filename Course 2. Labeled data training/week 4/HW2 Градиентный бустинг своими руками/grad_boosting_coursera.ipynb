{
  "nbformat": 4,
  "nbformat_minor": 0,
  "metadata": {
    "kernelspec": {
      "display_name": "Python 3",
      "language": "python",
      "name": "python3"
    },
    "language_info": {
      "codemirror_mode": {
        "name": "ipython",
        "version": 3
      },
      "file_extension": ".py",
      "mimetype": "text/x-python",
      "name": "python",
      "nbconvert_exporter": "python",
      "pygments_lexer": "ipython3",
      "version": "3.6.8"
    },
    "colab": {
      "name": "grad_boosting_coursera.ipynb.json",
      "provenance": [],
      "toc_visible": true,
      "include_colab_link": true
    }
  },
  "cells": [
    {
      "cell_type": "markdown",
      "metadata": {
        "id": "view-in-github",
        "colab_type": "text"
      },
      "source": [
        "<a href=\"https://colab.research.google.com/github/upayuryeva/ML-and-DA-coursera/blob/main/grad_boosting_coursera.ipynb\" target=\"_parent\"><img src=\"https://colab.research.google.com/assets/colab-badge.svg\" alt=\"Open In Colab\"/></a>"
      ]
    },
    {
      "cell_type": "markdown",
      "metadata": {
        "id": "LRWQkBpyTrfq"
      },
      "source": [
        "# Градиентный бустинг своими руками\n",
        "\n",
        "**Внимание:** в тексте задания произошли изменения - поменялось число деревьев (теперь 50), правило изменения величины шага в задании 3 и добавился параметр `random_state` у решающего дерева. Правильные ответы не поменялись, но теперь их проще получить. Также исправлена опечатка в функции `gbm_predict`.\n",
        "\n",
        "В этом задании будет использоваться датасет `boston` из `sklearn.datasets`. Оставьте последние 25% объектов для контроля качества, разделив `X` и `y` на `X_train`, `y_train` и `X_test`, `y_test`.\n",
        "\n",
        "Целью задания будет реализовать простой вариант градиентного бустинга над регрессионными деревьями для случая квадратичной функции потерь."
      ]
    },
    {
      "cell_type": "code",
      "metadata": {
        "id": "iazIwbrKTytv"
      },
      "source": [
        "from sklearn import model_selection, datasets, metrics, tree \n",
        "import numpy as np"
      ],
      "execution_count": 1,
      "outputs": []
    },
    {
      "cell_type": "code",
      "metadata": {
        "id": "F--AeVNcidqo"
      },
      "source": [
        "def write_answer(answ, num):\n",
        "  print(answ)\n",
        "\n",
        "  with open(\"answer%d.txt\" % num , \"w\") as fout:\n",
        "          fout.write(str(answ))"
      ],
      "execution_count": 2,
      "outputs": []
    },
    {
      "cell_type": "code",
      "metadata": {
        "collapsed": true,
        "id": "g4eJ3OKjTrfw"
      },
      "source": [
        "from sklearn.datasets import load_boston\n",
        "\n",
        "X, y = load_boston(return_X_y=True)\n",
        "\n",
        "X_train = X[:380,:]\n",
        "X_test = X[380:,:]\n",
        "y_train = y[:380]\n",
        "y_test = y[380:]"
      ],
      "execution_count": 3,
      "outputs": []
    },
    {
      "cell_type": "markdown",
      "metadata": {
        "id": "J36QkqJDTrfx"
      },
      "source": [
        "## Задание 1\n",
        "\n",
        "Как вы уже знаете из лекций, **бустинг** - это метод построения композиций базовых алгоритмов с помощью последовательного добавления к текущей композиции нового алгоритма с некоторым коэффициентом. \n",
        "\n",
        "Градиентный бустинг обучает каждый новый алгоритм так, чтобы он приближал антиградиент ошибки по ответам композиции на обучающей выборке. Аналогично минимизации функций методом градиентного спуска, в градиентном бустинге мы подправляем композицию, изменяя алгоритм в направлении антиградиента ошибки.\n",
        "\n",
        "Воспользуйтесь формулой из лекций, задающей ответы на обучающей выборке, на которые нужно обучать новый алгоритм (фактически это лишь чуть более подробно расписанный градиент от ошибки), и получите частный ее случай, если функция потерь `L` - квадрат отклонения ответа композиции `a(x)` от правильного ответа `y` на данном `x`.\n",
        "\n",
        "Если вы давно не считали производную самостоятельно, вам поможет таблица производных элементарных функций (которую несложно найти в интернете) и правило дифференцирования сложной функции. После дифференцирования квадрата у вас возникнет множитель 2 — т.к. нам все равно предстоит выбирать коэффициент, с которым будет добавлен новый базовый алгоритм, проигноируйте этот множитель при дальнейшем построении алгоритма."
      ]
    },
    {
      "cell_type": "code",
      "metadata": {
        "collapsed": true,
        "id": "SoclowqcTrfx"
      },
      "source": [
        "# b = DecisionTreeRegressor()\n",
        "# z = gbm_predict(X_train)\n",
        "# b.fit(X_train, L_derivative(y_train, z))\n",
        "# # test with metric\n",
        "# print mean_squared_error(y_test, b.predict(X_test)"
      ],
      "execution_count": 4,
      "outputs": []
    },
    {
      "cell_type": "markdown",
      "metadata": {
        "id": "ZZO8ubgtTrfx"
      },
      "source": [
        "## Задание 2\n",
        "\n",
        "Заведите массив для объектов `DecisionTreeRegressor` (будем их использовать в качестве базовых алгоритмов) и для вещественных чисел (это будут коэффициенты перед базовыми алгоритмами). \n",
        "\n",
        "В цикле от обучите последовательно 50 решающих деревьев с параметрами `max_depth=5` и `random_state=42` (остальные параметры - по умолчанию). В бустинге зачастую используются сотни и тысячи деревьев, но мы ограничимся 50, чтобы алгоритм работал быстрее, и его было проще отлаживать (т.к. цель задания разобраться, как работает метод). Каждое дерево должно обучаться на одном и том же множестве объектов, но ответы, которые учится прогнозировать дерево, будут меняться в соответствие с полученным в задании 1 правилом. \n",
        "\n",
        "Попробуйте для начала всегда брать коэффициент равным 0.9. Обычно оправдано выбирать коэффициент значительно меньшим - порядка 0.05 или 0.1, но т.к. в нашем учебном примере на стандартном датасете будет всего 50 деревьев, возьмем для начала шаг побольше.\n",
        "\n",
        "В процессе реализации обучения вам потребуется функция, которая будет вычислять прогноз построенной на данный момент композиции деревьев на выборке `X`:\n",
        "\n",
        "```\n",
        "def gbm_predict(X):\n",
        "    return [sum([coeff * algo.predict([x])[0] for algo, coeff in zip(base_algorithms_list, coefficients_list)]) for x in X]\n",
        "(считаем, что base_algorithms_list - список с базовыми алгоритмами, coefficients_list - список с коэффициентами перед алгоритмами)\n",
        "```\n",
        "\n",
        "Эта же функция поможет вам получить прогноз на контрольной выборке и оценить качество работы вашего алгоритма с помощью `mean_squared_error` в `sklearn.metrics`. \n",
        "\n",
        "Возведите результат в степень 0.5, чтобы получить `RMSE`. Полученное значение `RMSE` — **ответ в пункте 2**."
      ]
    },
    {
      "cell_type": "code",
      "metadata": {
        "id": "5xLTKsw5hR7S"
      },
      "source": [
        "def gbm_predict(X):\n",
        "    return [sum([coeff * algo.predict([x])[0] for algo, coeff in zip(base_algorithms_list, coefficients_list)]) for x in X]"
      ],
      "execution_count": 5,
      "outputs": []
    },
    {
      "cell_type": "code",
      "metadata": {
        "collapsed": true,
        "colab": {
          "base_uri": "https://localhost:8080/"
        },
        "id": "sTtaTx76Trfy",
        "outputId": "7386cc01-41a5-4b12-bf96-3c8c1f83a80f"
      },
      "source": [
        "base_algorithms_list = []\n",
        "coefficients_list = []\n",
        "y_cur = np.array(y_train)\n",
        "for i in range(50):\n",
        "    regr = tree.DecisionTreeRegressor(max_depth=5, random_state=42).fit(X_train, y_cur)\n",
        "    base_algorithms_list.append(regr)\n",
        "    coefficients_list.append(0.9)\n",
        "    y_cur = y_train - gbm_predict(X_train)\n",
        "\n",
        "answ_2 = np.sqrt(metrics.mean_squared_error(y_test, gbm_predict(X_test)))\n",
        "write_answer(answ_2, 2)"
      ],
      "execution_count": 6,
      "outputs": [
        {
          "output_type": "stream",
          "text": [
            "5.4551393760319415\n"
          ],
          "name": "stdout"
        }
      ]
    },
    {
      "cell_type": "markdown",
      "metadata": {
        "id": "pNRLdwElTrfy"
      },
      "source": [
        "## Задание 3\n",
        "\n",
        "Вас может также беспокоить, что двигаясь с постоянным шагом, вблизи минимума ошибки ответы на обучающей выборке меняются слишком резко, перескакивая через минимум. \n",
        "\n",
        "Попробуйте уменьшать вес перед каждым алгоритмом с каждой следующей итерацией по формуле `0.9 / (1.0 + i)`, где `i` - номер итерации (от 0 до 49). Используйте качество работы алгоритма как **ответ в пункте 3**. \n",
        "\n",
        "В реальности часто применяется следующая стратегия выбора шага: как только выбран алгоритм, подберем коэффициент перед ним численным методом оптимизации таким образом, чтобы отклонение от правильных ответов было минимальным. Мы не будем предлагать вам реализовать это для выполнения задания, но рекомендуем попробовать разобраться с такой стратегией и реализовать ее при случае для себя."
      ]
    },
    {
      "cell_type": "code",
      "metadata": {
        "collapsed": true,
        "colab": {
          "base_uri": "https://localhost:8080/"
        },
        "id": "moN3eQXxTrfy",
        "outputId": "405e7e73-f2f2-4826-fa5b-d5da6cb1fdba"
      },
      "source": [
        "base_algorithms_list = []\n",
        "coefficients_list = []\n",
        "y_cur = np.array(y_train)\n",
        "for i in range(50):\n",
        "    regr = tree.DecisionTreeRegressor(max_depth=5, random_state=42).fit(X_train, y_cur)\n",
        "    base_algorithms_list.append(regr)\n",
        "    coefficients_list.append(0.9/(1.0+i%10))\n",
        "    y_cur = y_train - gbm_predict(X_train)\n",
        "\n",
        "answ_3 = np.sqrt(metrics.mean_squared_error(y_test, gbm_predict(X_test)))\n",
        "write_answer(answ_3, 3)"
      ],
      "execution_count": 7,
      "outputs": [
        {
          "output_type": "stream",
          "text": [
            "5.572490908115945\n"
          ],
          "name": "stdout"
        }
      ]
    },
    {
      "cell_type": "markdown",
      "metadata": {
        "id": "y1Sm44WCTrfz"
      },
      "source": [
        "## Задание 4\n",
        "\n",
        "Реализованный вами метод - градиентный бустинг над деревьями - очень популярен в машинном обучении. Он представлен как в самой библиотеке `sklearn`, так и в сторонней библиотеке `XGBoost`, которая имеет свой питоновский интерфейс. На практике `XGBoost` работает заметно лучше `GradientBoostingRegressor` из `sklearn`, но для этого задания вы можете использовать любую реализацию. \n",
        "\n",
        "Исследуйте, переобучается ли градиентный бустинг с ростом числа итераций (и подумайте, почему), а также с ростом глубины деревьев. На основе наблюдений выпишите через пробел номера правильных из приведенных ниже утверждений в порядке возрастания номера (это будет **ответ в п.4**):\n",
        "\n",
        "    1. С увеличением числа деревьев, начиная с некоторого момента, качество работы градиентного бустинга не меняется существенно.\n",
        "\n",
        "    2. С увеличением числа деревьев, начиная с некоторого момента, градиентный бустинг начинает переобучаться.\n",
        "\n",
        "    3. С ростом глубины деревьев, начиная с некоторого момента, качество работы градиентного бустинга на тестовой выборке начинает ухудшаться.\n",
        "\n",
        "    4. С ростом глубины деревьев, начиная с некоторого момента, качество работы градиентного бустинга перестает существенно изменяться"
      ]
    },
    {
      "cell_type": "code",
      "metadata": {
        "colab": {
          "base_uri": "https://localhost:8080/"
        },
        "id": "SyakvqHpmi0V",
        "outputId": "e8f898d6-c6d7-4653-b8b6-1a8a7c37775c"
      },
      "source": [
        "from sklearn.ensemble import GradientBoostingRegressor\n",
        "from matplotlib import pyplot as plt\n",
        "%matplotlib inline\n",
        "%pylab inline"
      ],
      "execution_count": 8,
      "outputs": [
        {
          "output_type": "stream",
          "text": [
            "Populating the interactive namespace from numpy and matplotlib\n"
          ],
          "name": "stdout"
        }
      ]
    },
    {
      "cell_type": "code",
      "metadata": {
        "colab": {
          "base_uri": "https://localhost:8080/",
          "height": 513
        },
        "id": "i7Zli8VflbYe",
        "outputId": "e20839c4-74b9-4a70-b469-dc4eb7973851"
      },
      "source": [
        "trees_num = np.arange(5, 110, 10)\n",
        "depths_num =  np.arange(3, 21, 3)\n",
        "plt.figure(figsize=(10, 8))\n",
        "plt.title('The deeper the depth, the lighter the color')\n",
        "s_color_test = np.array([0.5, 0, 0.5])\n",
        "e_color_test = np.array([1, 0.8, 1])\n",
        "s_color_train = np.array([0, 0.3, 0.5])\n",
        "e_color_train = np.array([0.8, 0.9, 1])\n",
        "step_test = (e_color_test - s_color_test)/(len(depths_num)-1)\n",
        "step_train = (e_color_train - s_color_train)/(len(depths_num)-1)\n",
        "\n",
        "for i, d in enumerate(depths_num):\n",
        "    scores_train = []\n",
        "    scores_test = []\n",
        "    for num in trees_num:\n",
        "        boost = GradientBoostingRegressor(n_estimators=num, max_depth=d, random_state=42).fit(X_train, y_train)\n",
        "        scores_train.append(np.sqrt(metrics.mean_squared_error(y_train, boost.predict(X_train))))\n",
        "        scores_test.append(np.sqrt(metrics.mean_squared_error(y_test, boost.predict(X_test))))\n",
        "    if d == depths_num[0] or d == depths_num[-1]:\n",
        "      plt.plot(trees_num, scores_train, color=s_color_train+step_train*i, \n",
        "              label=\"train %d depths\" % d)\n",
        "      plt.plot(trees_num, scores_test, color=s_color_test+step_test*i,\n",
        "              label=\"test %d depths\" % d)\n",
        "    else:\n",
        "      plt.plot(trees_num, scores_train, color=s_color_train+step_train*i)\n",
        "      plt.plot(trees_num, scores_test, color=s_color_test+step_test*i)     \n",
        "\n",
        "plt.xlabel(\"trees\")\n",
        "plt.ylabel(\"score\")\n",
        "plt.legend(loc='upper right')\n",
        "plt.grid()\n"
      ],
      "execution_count": 9,
      "outputs": [
        {
          "output_type": "display_data",
          "data": {
            "image/png": "[encoded data removed]",
            "text/plain": [
              "<Figure size 720x576 with 1 Axes>"
            ]
          },
          "metadata": {
            "tags": [],
            "needs_background": "light"
          }
        }
      ]
    },
    {
      "cell_type": "code",
      "metadata": {
        "colab": {
          "base_uri": "https://localhost:8080/"
        },
        "id": "GLHu6rI3y5P6",
        "outputId": "f1fcb6a9-6f8c-450e-8082-7ae5164795ed"
      },
      "source": [
        "write_answer('2 3', 4)"
      ],
      "execution_count": 10,
      "outputs": [
        {
          "output_type": "stream",
          "text": [
            "2 3\n"
          ],
          "name": "stdout"
        }
      ]
    },
    {
      "cell_type": "markdown",
      "metadata": {
        "id": "kC9L5pBwTrfz"
      },
      "source": [
        "## Задание 5\n",
        "\n",
        "Сравните получаемое с помощью градиентного бустинга качество с качеством работы линейной регрессии. \n",
        "\n",
        "Для этого обучите `LinearRegression` из `sklearn.linear_model` (с параметрами по умолчанию) на обучающей выборке и оцените для прогнозов полученного алгоритма на тестовой выборке `RMSE`. Полученное качество - ответ в **пункте 5**. \n",
        "\n",
        "В данном примере качество работы простой модели должно было оказаться хуже, но не стоит забывать, что так бывает не всегда. В заданиях к этому курсу вы еще встретите пример обратной ситуации."
      ]
    },
    {
      "cell_type": "code",
      "metadata": {
        "collapsed": true,
        "colab": {
          "base_uri": "https://localhost:8080/"
        },
        "id": "5avbNF4ETrfz",
        "outputId": "01326074-c290-40ba-c1fd-0a7704fd34fa"
      },
      "source": [
        "from sklearn.linear_model import LinearRegression\n",
        "\n",
        "lin = LinearRegression().fit(X_train, y_train)\n",
        "pred = lin.predict(X_test)\n",
        "\n",
        "answ_5 = np.sqrt(metrics.mean_squared_error(y_test, pred))\n",
        "write_answer(answ_5, 5)"
      ],
      "execution_count": 11,
      "outputs": [
        {
          "output_type": "stream",
          "text": [
            "7.819688142087423\n"
          ],
          "name": "stdout"
        }
      ]
    },
    {
      "cell_type": "code",
      "metadata": {
        "id": "-v3wmMdF2N8Q"
      },
      "source": [
        ""
      ],
      "execution_count": 11,
      "outputs": []
    }
  ]
}
