{
  "nbformat": 4,
  "nbformat_minor": 0,
  "metadata": {
    "colab": {
      "name": "HW_Naive_Bayes.ipynb",
      "provenance": [],
      "toc_visible": true,
      "authorship_tag": "ABX9TyOwhRIRYaDwvHKpESNTBiMa"
    },
    "kernelspec": {
      "name": "python3",
      "display_name": "Python 3"
    },
    "language_info": {
      "name": "python"
    }
  },
  "cells": [
    {
      "cell_type": "markdown",
      "metadata": {
        "id": "qKkizWEted8E"
      },
      "source": [
        "Загрузите датасеты digits и breast_cancer из sklearn.datasets. Выведите несколько строчек из обучающих выборок и посмотрите на признаки. С помощью sklearn.cross_validation.cross_val_score c настройками по умолчанию и вызова метода mean() у возвращаемого этой функцией numpy.ndarray, сравните качество работы наивных байесовских классификаторов на этих двух датасетах. Для сравнения предлагается использовать BernoulliNB, MultinomialNB и GaussianNB. Насколько полученные результаты согласуются с рекомендациями из лекций?"
      ]
    },
    {
      "cell_type": "code",
      "metadata": {
        "id": "-uk9eX6id1Ir"
      },
      "source": [
        "from sklearn.datasets import load_breast_cancer\n",
        "from sklearn.datasets import load_digits\n",
        "\n",
        "X_d, y_d = load_digits(return_X_y=True)\n",
        "X_bc, y_bc = load_breast_cancer(return_X_y=True)"
      ],
      "execution_count": 8,
      "outputs": []
    },
    {
      "cell_type": "code",
      "metadata": {
        "id": "qjpQsugUemza"
      },
      "source": [
        "from sklearn.model_selection import cross_val_score\n",
        "from sklearn.naive_bayes import BernoulliNB\n",
        "\n",
        "\n",
        "def print_est(clf, name_clf):\n",
        "  print('cvs for digital dataset and ' + name_clf + ' clf:', \n",
        "        cross_val_score(clf, X_d, y_d, cv=10).mean())\n",
        "  print('cvs for breast cancer dataset and ' + name_clf + ' clf:',\n",
        "        cross_val_score(clf, X_bc, y_bc, cv=10).mean())\n"
      ],
      "execution_count": 20,
      "outputs": []
    },
    {
      "cell_type": "code",
      "metadata": {
        "colab": {
          "base_uri": "https://localhost:8080/"
        },
        "id": "7JfAihFnkkYf",
        "outputId": "f9d604e9-795b-450d-f0ab-dd0e75abb4b1"
      },
      "source": [
        "print_est(BernoulliNB(), 'BernoulliNB')"
      ],
      "execution_count": 22,
      "outputs": [
        {
          "output_type": "stream",
          "text": [
            "cvs for digital dataset and BernoulliNB clf: 0.8325170701427685\n",
            "cvs for breast cancer dataset and BernoulliNB clf: 0.6274122807017544\n"
          ],
          "name": "stdout"
        }
      ]
    },
    {
      "cell_type": "code",
      "metadata": {
        "colab": {
          "base_uri": "https://localhost:8080/"
        },
        "id": "4LiaU3-RklbD",
        "outputId": "fac9f9ce-8461-4365-9c13-7e8999f80405"
      },
      "source": [
        "from sklearn.naive_bayes import MultinomialNB\n",
        "\n",
        "print_est(MultinomialNB(), 'MultinomialNB')"
      ],
      "execution_count": 21,
      "outputs": [
        {
          "output_type": "stream",
          "text": [
            "cvs for digital dataset and MultinomialNB clf: 0.8797858472998138\n",
            "cvs for breast cancer dataset and MultinomialNB clf: 0.8927944862155389\n"
          ],
          "name": "stdout"
        }
      ]
    },
    {
      "cell_type": "code",
      "metadata": {
        "colab": {
          "base_uri": "https://localhost:8080/"
        },
        "id": "TmcbHk0Mkmte",
        "outputId": "09b2caf8-7a1d-4472-ac22-2acc34200580"
      },
      "source": [
        "from sklearn.naive_bayes import GaussianNB\n",
        "\n",
        "print_est(GaussianNB(), 'GaussianNB')"
      ],
      "execution_count": 23,
      "outputs": [
        {
          "output_type": "stream",
          "text": [
            "cvs for digital dataset and GaussianNB clf: 0.8113904407200497\n",
            "cvs for breast cancer dataset and GaussianNB clf: 0.9367794486215537\n"
          ],
          "name": "stdout"
        }
      ]
    },
    {
      "cell_type": "markdown",
      "metadata": {
        "id": "nA__fxWZm2Qz"
      },
      "source": [
        "### Вопрос 1\n",
        "Каким получилось максимальное качество классификации на датасете breast_cancer?"
      ]
    },
    {
      "cell_type": "code",
      "metadata": {
        "id": "kX5U7XITmZGD"
      },
      "source": [
        "with open(\"answer1.txt\", \"w\") as fout:\n",
        "        fout.write(str(0.9367794486215537))"
      ],
      "execution_count": 24,
      "outputs": []
    },
    {
      "cell_type": "markdown",
      "metadata": {
        "id": "DOoezGE7nDAN"
      },
      "source": [
        "### Вопрос 2\n",
        "\n",
        "Каким получилось максимальное качество классификации на датасете digits?"
      ]
    },
    {
      "cell_type": "code",
      "metadata": {
        "id": "7_7bc50wmyMp"
      },
      "source": [
        "with open(\"answer2.txt\", \"w\") as fout:\n",
        "        fout.write(str(0.8797858472998138))"
      ],
      "execution_count": 25,
      "outputs": []
    }
  ]
}