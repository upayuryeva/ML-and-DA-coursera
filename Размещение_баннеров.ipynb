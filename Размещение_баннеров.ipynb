{
  "nbformat": 4,
  "nbformat_minor": 0,
  "metadata": {
    "colab": {
      "name": "Размещение_баннеров.ipynb",
      "provenance": [],
      "authorship_tag": "ABX9TyNhZt60OZ5o7R5n4GC7sZsW"
    },
    "kernelspec": {
      "name": "python3",
      "display_name": "Python 3"
    },
    "language_info": {
      "name": "python"
    }
  },
  "cells": [
    {
      "cell_type": "markdown",
      "metadata": {
        "id": "dUK1KA8keo0W"
      },
      "source": [
        "# Размещение баннеров"
      ]
    },
    {
      "cell_type": "markdown",
      "metadata": {
        "id": "TGyp1-ocJmRv"
      },
      "source": [
        "Представим, что международное круизное агентство Carnival Cruise Line решило себя разрекламировать с помощью баннеров и обратилось для этого к вам. Чтобы протестировать, велика ли от таких баннеров польза, их будет размещено всего 20 штук по всему миру. Вам надо выбрать 20 таких локаций для размещения, чтобы польза была большой и агентство продолжило с вами сотрудничать.\n",
        "\n",
        "Агентство крупное, и у него есть несколько офисов по всему миру. Вблизи этих офисов оно и хочет разместить баннеры — легче договариваться и проверять результат. Также эти места должны быть популярны среди туристов.\n",
        "\n",
        "Для поиска оптимальных мест воспользуемся базой данных крупнейшей социальной сети, основанной на локациях — Foursquare.\n",
        "\n",
        "Часть открытых данных есть, например, на сайте archive.org:\n",
        "\n",
        "https://archive.org/details/201309_foursquare_dataset_umn\n",
        "\n",
        "Скачаем любым удобным образом архив fsq.zip с этой страницы.\n",
        "\n",
        "Нас будет интересовать файл checkins.dat. \n",
        "\n",
        "Для удобной работы с этим документом преобразуем его к формату csv, удалив строки, не содержащие координат — они неинформативны для нас."
      ]
    },
    {
      "cell_type": "code",
      "metadata": {
        "id": "23W5zSnkJiSs"
      },
      "source": [
        "import csv\n",
        "\n",
        "with open('checkins.dat') as dat_file, open('checkins.csv', 'w') as csv_file:\n",
        "    csv_writer = csv.writer(csv_file)\n",
        "\n",
        "    for line in dat_file:\n",
        "      row = [field.strip() for field in line.split('|')]\n",
        "      csv_writer.writerow(row)"
      ],
      "execution_count": 1,
      "outputs": []
    },
    {
      "cell_type": "markdown",
      "metadata": {
        "id": "pSGDw3bpSbRG"
      },
      "source": [
        "С помощью pandas построим DataFrame и убедимся, что все 396634 строки с координатами считаны успешно."
      ]
    },
    {
      "cell_type": "code",
      "metadata": {
        "colab": {
          "base_uri": "https://localhost:8080/"
        },
        "id": "iPP-e3DhOyc9",
        "outputId": "81e13b8b-faba-4903-da65-8544776411dc"
      },
      "source": [
        "import pandas as pd\n",
        "\n",
        "df = pd.read_csv('checkins.csv')\n",
        "df.head"
      ],
      "execution_count": 2,
      "outputs": [
        {
          "output_type": "stream",
          "text": [
            "/usr/local/lib/python3.7/dist-packages/IPython/core/interactiveshell.py:2718: DtypeWarning: Columns (0) have mixed types.Specify dtype option on import or set low_memory=False.\n",
            "  interactivity=interactivity, compiler=compiler, result=result)\n"
          ],
          "name": "stderr"
        },
        {
          "output_type": "execute_result",
          "data": {
            "text/plain": [
              "<bound method NDFrame.head of                                                        id  ...           created_at\n",
              "0       ---------+---------+----------+---------------...  ...                  NaN\n",
              "1                                                  984301  ...  2012-04-21 17:39:01\n",
              "2                                                  984222  ...  2012-04-21 17:43:47\n",
              "3                                                  984315  ...  2012-04-21 17:37:18\n",
              "4                                                  984234  ...  2012-04-21 17:43:43\n",
              "...                                                   ...  ...                  ...\n",
              "877607                                             195993  ...  2011-12-13 01:02:54\n",
              "877608                                             196195  ...  2011-12-13 01:07:52\n",
              "877609                                             196219  ...  2011-12-13 01:04:50\n",
              "877610                                             196536  ...  2011-12-13 02:14:07\n",
              "877611                                             196787  ...                  NaN\n",
              "\n",
              "[877612 rows x 6 columns]>"
            ]
          },
          "metadata": {
            "tags": []
          },
          "execution_count": 2
        }
      ]
    },
    {
      "cell_type": "code",
      "metadata": {
        "colab": {
          "base_uri": "https://localhost:8080/"
        },
        "id": "fPvQyu7HO97e",
        "outputId": "32f0802f-8d14-42d7-9d5b-d13fb1bff64f"
      },
      "source": [
        "df.columns"
      ],
      "execution_count": 3,
      "outputs": [
        {
          "output_type": "execute_result",
          "data": {
            "text/plain": [
              "Index(['id', 'user_id', 'venue_id', 'latitude', 'longitude', 'created_at'], dtype='object')"
            ]
          },
          "metadata": {
            "tags": []
          },
          "execution_count": 3
        }
      ]
    },
    {
      "cell_type": "code",
      "metadata": {
        "id": "Tbgv5oLcUDAC"
      },
      "source": [
        "df_coord = df[['latitude', 'longitude']]"
      ],
      "execution_count": 4,
      "outputs": []
    },
    {
      "cell_type": "code",
      "metadata": {
        "id": "zS6IZhOtRyAA"
      },
      "source": [
        "df = df_coord.dropna()"
      ],
      "execution_count": 5,
      "outputs": []
    },
    {
      "cell_type": "code",
      "metadata": {
        "colab": {
          "base_uri": "https://localhost:8080/",
          "height": 419
        },
        "id": "govzthY7R98a",
        "outputId": "77607586-fd31-4452-c7a6-e52e5e94c8c8"
      },
      "source": [
        "df"
      ],
      "execution_count": 6,
      "outputs": [
        {
          "output_type": "execute_result",
          "data": {
            "text/html": [
              "<div>\n",
              "<style scoped>\n",
              "    .dataframe tbody tr th:only-of-type {\n",
              "        vertical-align: middle;\n",
              "    }\n",
              "\n",
              "    .dataframe tbody tr th {\n",
              "        vertical-align: top;\n",
              "    }\n",
              "\n",
              "    .dataframe thead th {\n",
              "        text-align: right;\n",
              "    }\n",
              "</style>\n",
              "<table border=\"1\" class=\"dataframe\">\n",
              "  <thead>\n",
              "    <tr style=\"text-align: right;\">\n",
              "      <th></th>\n",
              "      <th>latitude</th>\n",
              "      <th>longitude</th>\n",
              "    </tr>\n",
              "  </thead>\n",
              "  <tbody>\n",
              "    <tr>\n",
              "      <th>2</th>\n",
              "      <td>38.895112</td>\n",
              "      <td>-77.036366</td>\n",
              "    </tr>\n",
              "    <tr>\n",
              "      <th>4</th>\n",
              "      <td>33.800745</td>\n",
              "      <td>-84.410520</td>\n",
              "    </tr>\n",
              "    <tr>\n",
              "      <th>8</th>\n",
              "      <td>45.523452</td>\n",
              "      <td>-122.676207</td>\n",
              "    </tr>\n",
              "    <tr>\n",
              "      <th>10</th>\n",
              "      <td>40.764462</td>\n",
              "      <td>-111.904565</td>\n",
              "    </tr>\n",
              "    <tr>\n",
              "      <th>11</th>\n",
              "      <td>33.448377</td>\n",
              "      <td>-112.074037</td>\n",
              "    </tr>\n",
              "    <tr>\n",
              "      <th>...</th>\n",
              "      <td>...</td>\n",
              "      <td>...</td>\n",
              "    </tr>\n",
              "    <tr>\n",
              "      <th>877596</th>\n",
              "      <td>26.142036</td>\n",
              "      <td>-81.794810</td>\n",
              "    </tr>\n",
              "    <tr>\n",
              "      <th>877598</th>\n",
              "      <td>40.633125</td>\n",
              "      <td>-89.398528</td>\n",
              "    </tr>\n",
              "    <tr>\n",
              "      <th>877603</th>\n",
              "      <td>37.714145</td>\n",
              "      <td>-122.250000</td>\n",
              "    </tr>\n",
              "    <tr>\n",
              "      <th>877605</th>\n",
              "      <td>41.878114</td>\n",
              "      <td>-87.629798</td>\n",
              "    </tr>\n",
              "    <tr>\n",
              "      <th>877606</th>\n",
              "      <td>40.714353</td>\n",
              "      <td>-74.005973</td>\n",
              "    </tr>\n",
              "  </tbody>\n",
              "</table>\n",
              "<p>342372 rows × 2 columns</p>\n",
              "</div>"
            ],
            "text/plain": [
              "         latitude   longitude\n",
              "2       38.895112  -77.036366\n",
              "4       33.800745  -84.410520\n",
              "8       45.523452 -122.676207\n",
              "10      40.764462 -111.904565\n",
              "11      33.448377 -112.074037\n",
              "...           ...         ...\n",
              "877596  26.142036  -81.794810\n",
              "877598  40.633125  -89.398528\n",
              "877603  37.714145 -122.250000\n",
              "877605  41.878114  -87.629798\n",
              "877606  40.714353  -74.005973\n",
              "\n",
              "[342372 rows x 2 columns]"
            ]
          },
          "metadata": {
            "tags": []
          },
          "execution_count": 6
        }
      ]
    },
    {
      "cell_type": "markdown",
      "metadata": {
        "id": "Po8uHniKSfG1"
      },
      "source": [
        "Теперь необходимо кластеризовать данные координаты, чтобы выявить центры скоплений туристов. Поскольку баннеры имеют сравнительно небольшую площадь действия, нам нужен алгоритм, позволяющий ограничить размер кластера и не зависящий от количества кластеров.\n",
        "\n",
        "Эта задача — хороший повод познакомиться с алгоритмом MeanShift, который мы обошли стороной в основной части лекций. Его описание при желании можно посмотреть в sklearn user guide, а чуть позже появится дополнительное видео с обзором этого и некоторых других алгоритмов кластеризации. Используйте MeanShift, указав bandwidth=0.1, что в переводе из градусов в метры колеблется примерно от 5 до 10 км в средних широтах.\n",
        "\n",
        "Примечание:на 396634 строках кластеризация будет работать долго. Быть очень терпеливым не возбраняется — результат от этого только улучшится. Но для того, чтобы сдать задание, понадобится сабсет из первых 100 тысяч строк. Это компромисс между качеством и затраченным временем. Обучение алгоритма на всём датасете занимает около часа, а на 100 тыс. строк — примерно 2 минуты, однако этого достаточно для получения корректных результатов.\n"
      ]
    },
    {
      "cell_type": "code",
      "metadata": {
        "id": "lxXJzNMySOWE"
      },
      "source": [
        "df_100 = df.head(100000)"
      ],
      "execution_count": 7,
      "outputs": []
    },
    {
      "cell_type": "code",
      "metadata": {
        "colab": {
          "base_uri": "https://localhost:8080/",
          "height": 419
        },
        "id": "P6hMEUFRTGCQ",
        "outputId": "4df58cc9-969c-462a-d837-b5b2c789cea6"
      },
      "source": [
        "df_100"
      ],
      "execution_count": 8,
      "outputs": [
        {
          "output_type": "execute_result",
          "data": {
            "text/html": [
              "<div>\n",
              "<style scoped>\n",
              "    .dataframe tbody tr th:only-of-type {\n",
              "        vertical-align: middle;\n",
              "    }\n",
              "\n",
              "    .dataframe tbody tr th {\n",
              "        vertical-align: top;\n",
              "    }\n",
              "\n",
              "    .dataframe thead th {\n",
              "        text-align: right;\n",
              "    }\n",
              "</style>\n",
              "<table border=\"1\" class=\"dataframe\">\n",
              "  <thead>\n",
              "    <tr style=\"text-align: right;\">\n",
              "      <th></th>\n",
              "      <th>latitude</th>\n",
              "      <th>longitude</th>\n",
              "    </tr>\n",
              "  </thead>\n",
              "  <tbody>\n",
              "    <tr>\n",
              "      <th>2</th>\n",
              "      <td>38.895112</td>\n",
              "      <td>-77.036366</td>\n",
              "    </tr>\n",
              "    <tr>\n",
              "      <th>4</th>\n",
              "      <td>33.800745</td>\n",
              "      <td>-84.410520</td>\n",
              "    </tr>\n",
              "    <tr>\n",
              "      <th>8</th>\n",
              "      <td>45.523452</td>\n",
              "      <td>-122.676207</td>\n",
              "    </tr>\n",
              "    <tr>\n",
              "      <th>10</th>\n",
              "      <td>40.764462</td>\n",
              "      <td>-111.904565</td>\n",
              "    </tr>\n",
              "    <tr>\n",
              "      <th>11</th>\n",
              "      <td>33.448377</td>\n",
              "      <td>-112.074037</td>\n",
              "    </tr>\n",
              "    <tr>\n",
              "      <th>...</th>\n",
              "      <td>...</td>\n",
              "      <td>...</td>\n",
              "    </tr>\n",
              "    <tr>\n",
              "      <th>233789</th>\n",
              "      <td>33.575000</td>\n",
              "      <td>-117.725556</td>\n",
              "    </tr>\n",
              "    <tr>\n",
              "      <th>233790</th>\n",
              "      <td>37.629349</td>\n",
              "      <td>-122.400087</td>\n",
              "    </tr>\n",
              "    <tr>\n",
              "      <th>233794</th>\n",
              "      <td>29.762884</td>\n",
              "      <td>-95.383061</td>\n",
              "    </tr>\n",
              "    <tr>\n",
              "      <th>233798</th>\n",
              "      <td>32.802955</td>\n",
              "      <td>-96.769923</td>\n",
              "    </tr>\n",
              "    <tr>\n",
              "      <th>233799</th>\n",
              "      <td>37.774929</td>\n",
              "      <td>-122.419415</td>\n",
              "    </tr>\n",
              "  </tbody>\n",
              "</table>\n",
              "<p>100000 rows × 2 columns</p>\n",
              "</div>"
            ],
            "text/plain": [
              "         latitude   longitude\n",
              "2       38.895112  -77.036366\n",
              "4       33.800745  -84.410520\n",
              "8       45.523452 -122.676207\n",
              "10      40.764462 -111.904565\n",
              "11      33.448377 -112.074037\n",
              "...           ...         ...\n",
              "233789  33.575000 -117.725556\n",
              "233790  37.629349 -122.400087\n",
              "233794  29.762884  -95.383061\n",
              "233798  32.802955  -96.769923\n",
              "233799  37.774929 -122.419415\n",
              "\n",
              "[100000 rows x 2 columns]"
            ]
          },
          "metadata": {
            "tags": []
          },
          "execution_count": 8
        }
      ]
    },
    {
      "cell_type": "code",
      "metadata": {
        "id": "B4CaRB6uTG0a"
      },
      "source": [
        "from sklearn.cluster import MeanShift\n",
        "X = df_100\n",
        "clustering = MeanShift(bandwidth=0.1).fit(X)"
      ],
      "execution_count": 9,
      "outputs": []
    },
    {
      "cell_type": "markdown",
      "metadata": {
        "id": "aViLn_g-UWTT"
      },
      "source": [
        "Некоторые из получившихся кластеров содержат слишком мало точек — такие кластеры не интересны рекламодателям. Поэтому надо определить, какие из кластеров содержат, скажем, больше 15 элементов. Центры этих кластеров и являются оптимальными для размещения."
      ]
    },
    {
      "cell_type": "code",
      "metadata": {
        "colab": {
          "base_uri": "https://localhost:8080/"
        },
        "id": "5VaSCQK4T55_",
        "outputId": "3a9243dc-b1cc-4d5d-cc77-9b01f5448bc4"
      },
      "source": [
        "clustering.labels_"
      ],
      "execution_count": 10,
      "outputs": [
        {
          "output_type": "execute_result",
          "data": {
            "text/plain": [
              "array([ 5,  7, 30, ..., 25, 19,  4])"
            ]
          },
          "metadata": {
            "tags": []
          },
          "execution_count": 10
        }
      ]
    },
    {
      "cell_type": "code",
      "metadata": {
        "colab": {
          "base_uri": "https://localhost:8080/"
        },
        "id": "N97d8ZJFUiSO",
        "outputId": "5d12d9bc-2668-4f73-e653-f17b9c1fa2f4"
      },
      "source": [
        "clustering.cluster_centers_"
      ],
      "execution_count": 11,
      "outputs": [
        {
          "output_type": "execute_result",
          "data": {
            "text/plain": [
              "array([[  40.7177164 ,  -73.99183542],\n",
              "       [  33.44943805, -112.00213969],\n",
              "       [  33.44638027, -111.90188756],\n",
              "       ...,\n",
              "       [ -37.8229826 ,  145.1811902 ],\n",
              "       [ -41.2924945 ,  174.7732353 ],\n",
              "       [ -45.0311622 ,  168.6626435 ]])"
            ]
          },
          "metadata": {
            "tags": []
          },
          "execution_count": 11
        }
      ]
    },
    {
      "cell_type": "code",
      "metadata": {
        "colab": {
          "base_uri": "https://localhost:8080/"
        },
        "id": "3nygBz1yVDgc",
        "outputId": "d5984fc4-736d-445a-d5d3-8359b1d60882"
      },
      "source": [
        "max(clustering.labels_)"
      ],
      "execution_count": 12,
      "outputs": [
        {
          "output_type": "execute_result",
          "data": {
            "text/plain": [
              "3230"
            ]
          },
          "metadata": {
            "tags": []
          },
          "execution_count": 12
        }
      ]
    },
    {
      "cell_type": "code",
      "metadata": {
        "id": "eDm_-7wZVfXO"
      },
      "source": [
        "from collections import Counter\n",
        "\n",
        "clusts = Counter(clustering.labels_)\n",
        "\n",
        "clusts_15 = {}\n",
        "\n",
        "for k, i in clusts.items():\n",
        "  if i > 15:\n",
        "    clusts_15.update({k: i})"
      ],
      "execution_count": 13,
      "outputs": []
    },
    {
      "cell_type": "code",
      "metadata": {
        "id": "ekmDN1N6Y17e"
      },
      "source": [
        "centers = list(clustering.cluster_centers_)"
      ],
      "execution_count": 14,
      "outputs": []
    },
    {
      "cell_type": "code",
      "metadata": {
        "id": "BhD5Iel-Xdvf"
      },
      "source": [
        "centers_15 = [list(centers[k]) for k in clusts_15.keys()]"
      ],
      "execution_count": 15,
      "outputs": []
    },
    {
      "cell_type": "code",
      "metadata": {
        "id": "itcMvUKVVWp-"
      },
      "source": [
        "def distance(point1, point2):\n",
        "    return ((point1[0] - point2[0])**2 + (point1[1] - point2[1])**2)**0.5"
      ],
      "execution_count": 16,
      "outputs": []
    },
    {
      "cell_type": "code",
      "metadata": {
        "id": "ebGR7rU6ZHgM"
      },
      "source": [
        "offices = [[33.751277, -118.188740], \n",
        "           [25.867736, -80.324116], \n",
        "           [51.503016, -0.075479], \n",
        "           [52.378894, 4.885084],\n",
        "           [39.366487, 117.036146], \n",
        "           [-33.868457, 151.205134]]\n",
        "\n",
        "dist = []\n",
        "\n",
        "\n",
        "for c in centers_15:\n",
        "  dist_offices = []\n",
        "  for of in offices:\n",
        "    dist_offices.append(distance(c, of))\n",
        "  dist.append(min(dist_offices))\n"
      ],
      "execution_count": 17,
      "outputs": []
    },
    {
      "cell_type": "code",
      "metadata": {
        "colab": {
          "base_uri": "https://localhost:8080/"
        },
        "id": "w2sQIHsuayEJ",
        "outputId": "1484912a-47d7-4fcc-c5c6-3a665b55f152"
      },
      "source": [
        "centers_15[dist.index(min(dist))]"
      ],
      "execution_count": 19,
      "outputs": [
        {
          "output_type": "execute_result",
          "data": {
            "text/plain": [
              "[-33.86063042857143, 151.20477592857145]"
            ]
          },
          "metadata": {
            "tags": []
          },
          "execution_count": 19
        }
      ]
    }
  ]
}